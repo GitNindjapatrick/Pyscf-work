{
 "cells": [
  {
   "cell_type": "markdown",
   "metadata": {},
   "source": []
  },
  {
   "cell_type": "markdown",
   "metadata": {},
   "source": [
    "# <a id='toc1_'></a>[Quantum chemistry survey](#toc0_)\n",
    "\n",
    "1. **MVOTO KONGO Patrick Sorrel**, sorrel.mvoto@facsciences-uy1.cm\n",
    "    * Department of Physics, Faculty of Science, University of Yaounde I \n",
    "Etudiant de Master au Laboratoire de \n",
    "    * Physique Atomique Moleculaire et Biophysique\n",
    "\n",
    "Janvier 2024"
   ]
  },
  {
   "cell_type": "markdown",
   "metadata": {},
   "source": [
    "### <a id='toc1_3_'></a>[CONSIGNE](#toc0_)\n",
    "\n",
    "1. Etudier la convergence des ensembles de base pour une série de fonctionnelles de la\n",
    "théorie fonctionnelle de la densité (DFT) (non hybrides (PBE, TPSS) et hybrides\n",
    "(B3LYP)).\n",
    "2. Comparer les calculs DFT, MP2, CCSD et CCSD(T).\n",
    "3. Calculer les propriétés Gap energy, Fluorescence energy, Singlet-Triplet gap,\n",
    "Oscillator strength, Lifetime, Multi-objective function.\n",
    "4. Tracer le spectre UV/Vis avec les trois fonctionnelles précédentes.\n",
    "\n",
    "` NB`: Tous les résultats seront commentés/analysés. L'intérêt de chaque molécule étudiée sera\n",
    "spécifié. N'hésitez pas à faire des recherches supplémentaires. Vous êtes en Master!!"
   ]
  },
  {
   "cell_type": "markdown",
   "metadata": {},
   "source": [
    "### <a id='toc1_4_2_'></a>[SOLUTION](#toc0_)"
   ]
  },
  {
   "cell_type": "code",
   "execution_count": null,
   "metadata": {},
   "outputs": [],
   "source": []
  }
 ],
 "metadata": {
  "kernelspec": {
   "display_name": "Python 3 (ipykernel)",
   "language": "python",
   "name": "python3"
  },
  "language_info": {
   "codemirror_mode": {
    "name": "ipython",
    "version": 3
   },
   "file_extension": ".py",
   "mimetype": "text/x-python",
   "name": "python",
   "nbconvert_exporter": "python",
   "pygments_lexer": "ipython3",
   "version": "3.8.18"
  }
 },
 "nbformat": 4,
 "nbformat_minor": 4
}
