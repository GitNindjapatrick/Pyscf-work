{
 "cells": [
  {
   "cell_type": "markdown",
   "metadata": {},
   "source": [
    "# <a id='toc1_'></a>[Quantum chemistry survey](#toc0_)\n",
    "\n",
    "1. **MVOTO KONGO Patrick Sorrel**, sorrel.mvoto@facsciences-uy1.cm\n",
    "    * Department of Physics, Faculty of Science, University of Yaounde I \n",
    "Etudiant de Master au Laboratoire de \n",
    "    * Physique Atomique Moleculaire et Biophysique\n",
    "\n",
    "23 Janvier 2024"
   ]
  },
  {
   "cell_type": "markdown",
   "metadata": {},
   "source": [
    "### <a id='toc1_4_2_'></a>[SOLUTION](#toc0_)"
   ]
  },
  {
   "cell_type": "markdown",
   "metadata": {},
   "source": [
    "####  <a id='toc1_3_'></a>[Utilisation de `RDKIT`pour la generer des coordonnees 3D xyz](#toc0_)\n",
    "<!-- ![Rdkit.png](attachment:Rdkit.png) -->\n",
    "![Rdkit.png](./Graphics/Rdkit.png)"
   ]
  },
  {
   "cell_type": "markdown",
   "metadata": {},
   "source": [
    "### Présentation de la Molecules"
   ]
  },
  {
   "cell_type": "markdown",
   "metadata": {},
   "source": [
    "###  Description\n",
    "  La molecules 1,3-thiazole [pubchem](https://pubchem.ncbi.nlm.nih.gov/compound/Thiazole)\n",
    "* Formule brute `C3H3NS`\n",
    "* PubChem Cid  = `9256`\n",
    "* IUPAC name `1,3-Thiazole`\n",
    "* Masse molaire=`85,13 g/mole`\n",
    "* Isimetric SMILE: `C1=CSC=N1`\n",
    "\n",
    "Le 1,3-thiazole est une molécule organique hétérocyclique constituée d'un anneau de cinq atomes, comprenant trois atomes de carbone, un atome de soufre et un atome d'azote. Sa formule chimique est C3H3NS.\n",
    "\n",
    "Structurellement, le 1,3-thiazole peut être représenté comme un anneau plan avec un atome de soufre et un atome d'azote alternant avec les atomes de carbone. Les atomes de carbone forment une chaîne ouverte, tandis que l'azote et le soufre sont reliés à deux atomes de carbone adjacents. Ceci crée une alternance de doubles liaisons et de simples liaisons dans l'anneau.\n",
    "\n",
    "Le 1,3-thiazole présente des propriétés aromatiques en raison de la délocalisation des électrons pi à travers l'anneau, ce qui lui confère une stabilité particulière. Il peut exister sous forme de tautomères, où l'azote peut se trouver soit en position 1, soit en position 3 de l'anneau.\n",
    "\n",
    "Cette molécule présente une certaine polarité en raison de la différence d'électronégativité entre le soufre et l'azote, ce qui peut influencer ses interactions avec d'autres molécules et solvants.\n",
    "\n"
   ]
  },
  {
   "cell_type": "markdown",
   "metadata": {},
   "source": [
    "###    Intérêt\n",
    "\n",
    "Le 1,3-thiazole est une molécule d'intérêt dans divers domaines de la chimie et de la biologie en raison de ses propriétés uniques. Voici quelques-uns des intérêts associés à cette molécule :\n",
    "\n",
    "*  `Chimie organique`: Le 1,3-thiazole est utilisé comme motif structurel dans le développement de nombreux composés organiques. Sa présence confère souvent des propriétés spécifiques aux molécules, telles que des activités biologiques ou des interactions spécifiques avec d'autres molécules.\n",
    "\n",
    "* `Pharmacologie`: De nombreux composés dérivés du 1,3-thiazole ont montré des activités pharmacologiques intéressantes. Certains d'entre eux sont utilisés comme médicaments ou sont étudiés pour leur potentiel thérapeutique dans le traitement de diverses maladies, comme le cancer, les infections bactériennes ou les maladies neurodégénératives.\n",
    "\n",
    "* `Agriculture`: Certains dérivés du 1,3-thiazole sont utilisés en agriculture comme agents de protection des cultures. Ces composés peuvent avoir des propriétés fongicides ou insecticides, aidant ainsi à prévenir les maladies des plantes et les infestations d'insectes nuisibles.\n",
    "\n",
    "* `Chimie des matériaux`: Le 1,3-thiazole et ses dérivés sont également utilisés dans la synthèse de matériaux polymères. Ces polymères peuvent présenter des propriétés intéressantes, telles que la conductivité électrique ou la capacité d'absorber la lumière, ce qui les rend utiles dans des applications telles que les cellules solaires, les capteurs ou les dispositifs électroniques."
   ]
  },
  {
   "cell_type": "markdown",
   "metadata": {},
   "source": [
    "### <a id='toc1_3_'></a>[CONSIGNE](#toc0_)\n",
    "\n",
    "1. Etudier la convergence des ensembles de base pour une série de fonctionnelles de la\n",
    "théorie fonctionnelle de la densité (DFT) (non hybrides (PBE, TPSS) et hybrides\n",
    "(B3LYP)).\n",
    "2. Comparer les calculs DFT, MP2, CCSD et CCSD(T).\n",
    "3. Calculer les propriétés Gap energy, Fluorescence energy, Singlet-Triplet gap,\n",
    "Oscillator strength, Lifetime, Multi-objective function.\n",
    "4. Tracer le spectre UV/Vis avec les trois fonctionnelles précédentes.\n",
    "\n",
    "` NB`: Tous les résultats seront commentés/analysés. L'intérêt de chaque molécule étudiée sera\n",
    "spécifié. N'hésitez pas à faire des recherches supplémentaires. Vous êtes en Master!!"
   ]
  },
  {
   "cell_type": "code",
   "execution_count": 2,
   "metadata": {},
   "outputs": [],
   "source": [
    "#importation des packages  rdkit\n",
    "from rdkit import Chem"
   ]
  },
  {
   "cell_type": "markdown",
   "metadata": {},
   "source": [
    "#### **Création `RDKit` d'un objet moléculaire**"
   ]
  },
  {
   "cell_type": "code",
   "execution_count": 3,
   "metadata": {},
   "outputs": [
    {
     "data": {
      "image/png": "[encoded data removed]",
      "text/plain": [
       "<rdkit.Chem.rdchem.Mol at 0x7f0bfc5baac0>"
      ]
     },
     "execution_count": 3,
     "metadata": {},
     "output_type": "execute_result"
    }
   ],
   "source": [
    "### <a id='toc1_3_'></a>[CONSIGNE](#toc0_)\n",
    "\n",
    "#  Convertir le SMILES en objet RDKit Mol\n",
    "smiles = \"C1=CSC=N1\"#https://pubchem.ncbi.nlm.nih.gov/compound/Thiazole\n",
    "mol = Chem.MolFromSmiles(smiles)\n",
    "mol"
   ]
  },
  {
   "cell_type": "code",
   "execution_count": 6,
   "metadata": {},
   "outputs": [
    {
     "data": {
      "image/png": "[encoded data removed]",
      "text/plain": [
       "<rdkit.Chem.rdchem.Mol at 0x7f0bfa387660>"
      ]
     },
     "execution_count": 6,
     "metadata": {},
     "output_type": "execute_result"
    }
   ],
   "source": [
    "mol = Chem.AddHs(mol)\n",
    "mol"
   ]
  },
  {
   "cell_type": "code",
   "execution_count": 8,
   "metadata": {},
   "outputs": [
    {
     "data": {
      "text/html": [
       "<div>\n",
       "<style scoped>\n",
       "    .dataframe tbody tr th:only-of-type {\n",
       "        vertical-align: middle;\n",
       "    }\n",
       "\n",
       "    .dataframe tbody tr th {\n",
       "        vertical-align: top;\n",
       "    }\n",
       "\n",
       "    .dataframe thead th {\n",
       "        text-align: right;\n",
       "    }\n",
       "</style>\n",
       "<table border=\"1\" class=\"dataframe\">\n",
       "  <thead>\n",
       "    <tr style=\"text-align: right;\">\n",
       "      <th></th>\n",
       "      <th>valeurs</th>\n",
       "      <th>valeurs_pupchem</th>\n",
       "    </tr>\n",
       "    <tr>\n",
       "      <th>properties</th>\n",
       "      <th></th>\n",
       "      <th></th>\n",
       "    </tr>\n",
       "  </thead>\n",
       "  <tbody>\n",
       "    <tr>\n",
       "      <th>Poids_Mol</th>\n",
       "      <td>85.13100</td>\n",
       "      <td>85.13</td>\n",
       "    </tr>\n",
       "    <tr>\n",
       "      <th>poids_mol_moy</th>\n",
       "      <td>84.99862</td>\n",
       "      <td>84.986203</td>\n",
       "    </tr>\n",
       "    <tr>\n",
       "      <th>LogP</th>\n",
       "      <td>1.14310</td>\n",
       "      <td>NAN</td>\n",
       "    </tr>\n",
       "    <tr>\n",
       "      <th>TPSA</th>\n",
       "      <td>12.89000</td>\n",
       "      <td>41.1</td>\n",
       "    </tr>\n",
       "    <tr>\n",
       "      <th>hbd</th>\n",
       "      <td>0.00000</td>\n",
       "      <td>0</td>\n",
       "    </tr>\n",
       "    <tr>\n",
       "      <th>hba</th>\n",
       "      <td>2.00000</td>\n",
       "      <td>2</td>\n",
       "    </tr>\n",
       "  </tbody>\n",
       "</table>\n",
       "</div>"
      ],
      "text/plain": [
       "                valeurs valeurs_pupchem\n",
       "properties                             \n",
       "Poids_Mol      85.13100           85.13\n",
       "poids_mol_moy  84.99862       84.986203\n",
       "LogP            1.14310             NAN\n",
       "TPSA           12.89000            41.1\n",
       "hbd             0.00000               0\n",
       "hba             2.00000               2"
      ]
     },
     "execution_count": 8,
     "metadata": {},
     "output_type": "execute_result"
    }
   ],
   "source": [
    "import os\n",
    "import pandas as pd\n",
    "from rdkit.Chem import Descriptors\n",
    "properties = ['Poids_Mol','poids_mol_moy', 'LogP', 'TPSA','hbd','hba']\n",
    "\n",
    "# Calcul des descripteurs\n",
    "#poid_moleculaire\n",
    "molwt = Descriptors.MolWt(mol)\n",
    "#poid moleculaire moyen\n",
    "molwtE = Descriptors.ExactMolWt(mol)\n",
    "# solubilite\n",
    "logp = Descriptors.MolLogP(mol)\n",
    "#polarite\n",
    "tpsa = Descriptors.TPSA(mol)\n",
    "#nombre de liasons donneurs d'H\n",
    "hbd = Descriptors.NumHDonors(mol)\n",
    "#nombre de liason accepteurs d'H\n",
    "hba = Descriptors.NumHAcceptors(mol)\n",
    "\n",
    "# Ajout des propriétés à la liste de données\n",
    "data=[molwt , molwtE, logp, tpsa,hbd,hba]\n",
    "data1=[85.13 ,84.9862027  ,'NAN', 41.1 ,0,2]\n",
    "\n",
    "df_HF = pd.DataFrame({\"properties \":properties, \n",
    "                      'valeurs':data,\n",
    "                      \"valeurs_pupchem\":data1})\n",
    "df_HF.set_index(\"properties \", inplace=True)### <a id='toc1_3_'></a>[CONSIGNE](#toc0_)\n",
    "\n",
    "df_HF"
   ]
  },
  {
   "cell_type": "markdown",
   "metadata": {},
   "source": [
    "Les informations présentes dans le DataFrame pandas sont: \n",
    "\n",
    "* `Poids_Mol` : Il s'agit du `poids moléculaire` de la molécule, exprimé en grammes par mole `(g/mol)`. C'est la masse totale de la molécule qui est de `85.131g/mol` qui est equivalent a celle de `pubchem` estimé a  `85,13 g/mol`\n",
    "\n",
    "* `poids_mol_moy` : Il s'agit du `poids moléculaire moyen`, calculé en prenant en compte la distribution isotopique des atomes donc la valeurs est de `84.99862g\\mol` . qui est légèrement différent du poids moléculaire brute.\n",
    "\n",
    "* `LogP` : Il s'agit du coefficient de partage `octanol/eau (logP)` de la molécule. Un coefficient de partage `octanol/eau (logP)` de `1.1431` suggère une légère `hydrophobicité`(tendance d'une substance à repousser ou à éviter l'eau) pour la molécule. Qui est l'aptitude de la molécule à traverser les membranes biologiques\n",
    "\n",
    "* `TPSA` : Il s'agit de la surface polaire totale `Total Polar Surface Area)` de la molécule, exprimée en `Å² (angstroms carrés)`. C'est une mesure de la surface de la molécule qui est polaire et capable d'interactions avec des solvants polaires sa valeurs ici est de `12.89Å²`.\n",
    "\n",
    "* `hbd` : Il s'agit du nombre de donneurs de liaisons hydrogène `(hydrogen bond donors)` dans la molécule. Cela compte le nombre d'atomes d'hydrogène liés à des atomes d'oxygène, d'azote ou de soufre, qui peuvent former des liaisons hydrogène étant donné que la dans le cas de la molécule `1,3-Thiazole` les atomes d'hydrogènes  n'ont que des liaisons  avec les atomes de carbones en conséuent on a une valeurs `hba= 0`.\n",
    "\n",
    "* `hba` : Il s'agit du nombre d'accepteurs de liaisons hydrogène `(hydrogen bond acceptors)` dans la molécule. Cela compte le nombre d'atomes d'oxygène, d'azote ou de soufre dans la molécule, qui peuvent accepter des liaisons hydrogène,dans notre molécule nous uniquement un atome de soufre et un atome d'azote d'ou la valeur de `hba=2`."
   ]
  },
  {
   "cell_type": "markdown",
   "metadata": {},
   "source": [
    "### **Ajouter des atomes H a mon objet  mol pour la structure 3D**"
   ]
  },
  {
   "cell_type": "code",
   "execution_count": 9,
   "metadata": {},
   "outputs": [
    {
     "data": {
      "image/png": "[encoded data removed]",
      "text/plain": [
       "<rdkit.Chem.rdchem.Mol at 0x7f0bfa387f20>"
      ]
     },
     "execution_count": 9,
     "metadata": {},
     "output_type": "execute_result"
    }
   ],
   "source": [
    "mol = Chem.AddHs(mol)\n",
    "mol"
   ]
  },
  {
   "cell_type": "code",
   "execution_count": 10,
   "metadata": {},
   "outputs": [
    {
     "data": {
      "text/plain": [
       "8"
      ]
     },
     "execution_count": 10,
     "metadata": {},
     "output_type": "execute_result"
    }
   ],
   "source": [
    "#observer le nombres d'atomes de mon objet mol \n",
    "mol.GetNumAtoms()"
   ]
  },
  {
   "cell_type": "markdown",
   "metadata": {},
   "source": [
    "### **Générer  des `conformers`  et de les intégrer à la structure 3D**\n",
    "\n"
   ]
  },
  {
   "cell_type": "code",
   "execution_count": 11,
   "metadata": {},
   "outputs": [],
   "source": [
    "# importation  des modules Allchem et Chem de rdkit\n",
    "import rdkit\n",
    "from rdkit.Chem import AllChem"
   ]
  },
  {
   "cell_type": "code",
   "execution_count": 12,
   "metadata": {},
   "outputs": [
    {
     "data": {
      "image/png": "[encoded data removed]",
      "text/plain": [
       "<rdkit.Chem.rdchem.Mol at 0x7f0bfa387f20>"
      ]
     },
     "execution_count": 12,
     "metadata": {},
     "output_type": "execute_result"
    }
   ],
   "source": [
    "confid = AllChem.EmbedMolecule(mol)\n",
    "mol"
   ]
  },
  {
   "cell_type": "code",
   "execution_count": 13,
   "metadata": {},
   "outputs": [
    {
     "data": {
      "application/3dmoljs_load.v0": "<div id=\"3dmolviewer_1706533005395617\"  style=\"position: relative; width: 400px; height: 400px;\">\n        <p id=\"3dmolwarning_1706533005395617\" style=\"background-color:#ffcccc;color:black\">You appear to be running in JupyterLab (or JavaScript failed to load for some other reason).  You need to install the 3dmol extension: <br>\n        <tt>jupyter labextension install jupyterlab_3dmol</tt></p>\n        </div>\n<script>\n\nvar loadScriptAsync = function(uri){\n  return new Promise((resolve, reject) => {\n    //this is to ignore the existence of requirejs amd\n    var savedexports, savedmodule;\n    if (typeof exports !== 'undefined') savedexports = exports;\n    else exports = {}\n    if (typeof module !== 'undefined') savedmodule = module;\n    else module = {}\n\n    var tag = document.createElement('script');\n    tag.src = uri;\n    tag.async = true;\n    tag.onload = () => {\n        exports = savedexports;\n        module = savedmodule;\n        resolve();\n    };\n  var firstScriptTag = document.getElementsByTagName('script')[0];\n  firstScriptTag.parentNode.insertBefore(tag, firstScriptTag);\n});\n};\n\nif(typeof $3Dmolpromise === 'undefined') {\n$3Dmolpromise = null;\n  $3Dmolpromise = loadScriptAsync('https://cdnjs.cloudflare.com/ajax/libs/3Dmol/2.0.4/3Dmol-min.js');\n}\n\nvar viewer_1706533005395617 = null;\nvar warn = document.getElementById(\"3dmolwarning_1706533005395617\");\nif(warn) {\n    warn.parentNode.removeChild(warn);\n}\n$3Dmolpromise.then(function() {\nviewer_1706533005395617 = $3Dmol.createViewer(document.getElementById(\"3dmolviewer_1706533005395617\"),{backgroundColor:\"white\"});\nviewer_1706533005395617.zoomTo();\n\tviewer_1706533005395617.removeAllModels();\n\tviewer_1706533005395617.addModel(\"\\n     RDKit          3D\\n\\n  8  8  0  0  0  0  0  0  0  0999 V2000\\n   -0.6300   -0.7321    0.0145 C   0  0  0  0  0  0  0  0  0  0  0  0\\n   -1.0547    0.6017    0.0165 C   0  0  0  0  0  0  0  0  0  0  0  0\\n    0.4360    1.5152    0.2263 S   0  0  0  0  0  0  0  0  0  0  0  0\\n    1.4926   -0.0630    0.2888 C   0  0  0  0  0  0  0  0  0  0  0  0\\n    0.6625   -0.8586    0.1609 N   0  0  0  0  0  0  0  0  0  0  0  0\\n   -1.3961   -1.5168   -0.1055 H   0  0  0  0  0  0  0  0  0  0  0  0\\n   -2.0821    0.9892   -0.0887 H   0  0  0  0  0  0  0  0  0  0  0  0\\n    2.5717    0.0645    0.4201 H   0  0  0  0  0  0  0  0  0  0  0  0\\n  1  2  2  0\\n  2  3  1  0\\n  3  4  1  0\\n  4  5  2  0\\n  5  1  1  0\\n  1  6  1  0\\n  2  7  1  0\\n  4  8  1  0\\nM  END\\n\",\"sdf\");\n\tviewer_1706533005395617.setStyle({\"stick\": {}});\n\tviewer_1706533005395617.setBackgroundColor(\"0xeeeeee\");\n\tviewer_1706533005395617.zoomTo();\nviewer_1706533005395617.render();\n});\n</script>",
      "text/html": [
       "<div id=\"3dmolviewer_1706533005395617\"  style=\"position: relative; width: 400px; height: 400px;\">\n",
       "        <p id=\"3dmolwarning_1706533005395617\" style=\"background-color:#ffcccc;color:black\">You appear to be running in JupyterLab (or JavaScript failed to load for some other reason).  You need to install the 3dmol extension: <br>\n",
       "        <tt>jupyter labextension install jupyterlab_3dmol</tt></p>\n",
       "        </div>\n",
       "<script>\n",
       "\n",
       "var loadScriptAsync = function(uri){\n",
       "  return new Promise((resolve, reject) => {\n",
       "    //this is to ignore the existence of requirejs amd\n",
       "    var savedexports, savedmodule;\n",
       "    if (typeof exports !== 'undefined') savedexports = exports;\n",
       "    else exports = {}\n",
       "    if (typeof module !== 'undefined') savedmodule = module;\n",
       "    else module = {}\n",
       "\n",
       "    var tag = document.createElement('script');\n",
       "    tag.src = uri;\n",
       "    tag.async = true;\n",
       "    tag.onload = () => {\n",
       "        exports = savedexports;\n",
       "        module = savedmodule;\n",
       "        resolve();\n",
       "    };\n",
       "  var firstScriptTag = document.getElementsByTagName('script')[0];\n",
       "  firstScriptTag.parentNode.insertBefore(tag, firstScriptTag);\n",
       "});\n",
       "};\n",
       "\n",
       "if(typeof $3Dmolpromise === 'undefined') {\n",
       "$3Dmolpromise = null;\n",
       "  $3Dmolpromise = loadScriptAsync('https://cdnjs.cloudflare.com/ajax/libs/3Dmol/2.0.4/3Dmol-min.js');\n",
       "}\n",
       "\n",
       "var viewer_1706533005395617 = null;\n",
       "var warn = document.getElementById(\"3dmolwarning_1706533005395617\");\n",
       "if(warn) {\n",
       "    warn.parentNode.removeChild(warn);\n",
       "}\n",
       "$3Dmolpromise.then(function() {\n",
       "viewer_1706533005395617 = $3Dmol.createViewer(document.getElementById(\"3dmolviewer_1706533005395617\"),{backgroundColor:\"white\"});\n",
       "viewer_1706533005395617.zoomTo();\n",
       "\tviewer_1706533005395617.removeAllModels();\n",
       "\tviewer_1706533005395617.addModel(\"\\n     RDKit          3D\\n\\n  8  8  0  0  0  0  0  0  0  0999 V2000\\n   -0.6300   -0.7321    0.0145 C   0  0  0  0  0  0  0  0  0  0  0  0\\n   -1.0547    0.6017    0.0165 C   0  0  0  0  0  0  0  0  0  0  0  0\\n    0.4360    1.5152    0.2263 S   0  0  0  0  0  0  0  0  0  0  0  0\\n    1.4926   -0.0630    0.2888 C   0  0  0  0  0  0  0  0  0  0  0  0\\n    0.6625   -0.8586    0.1609 N   0  0  0  0  0  0  0  0  0  0  0  0\\n   -1.3961   -1.5168   -0.1055 H   0  0  0  0  0  0  0  0  0  0  0  0\\n   -2.0821    0.9892   -0.0887 H   0  0  0  0  0  0  0  0  0  0  0  0\\n    2.5717    0.0645    0.4201 H   0  0  0  0  0  0  0  0  0  0  0  0\\n  1  2  2  0\\n  2  3  1  0\\n  3  4  1  0\\n  4  5  2  0\\n  5  1  1  0\\n  1  6  1  0\\n  2  7  1  0\\n  4  8  1  0\\nM  END\\n\",\"sdf\");\n",
       "\tviewer_1706533005395617.setStyle({\"stick\": {}});\n",
       "\tviewer_1706533005395617.setBackgroundColor(\"0xeeeeee\");\n",
       "\tviewer_1706533005395617.zoomTo();\n",
       "viewer_1706533005395617.render();\n",
       "});\n",
       "</script>"
      ]
     },
     "metadata": {},
     "output_type": "display_data"
    }
   ],
   "source": [
    "rdkit.Chem.Draw.IPythonConsole.drawMol3D(mol, view=None, confId=-1, drawAs=None, bgColor=None, size=None)\n"
   ]
  },
  {
   "cell_type": "code",
   "execution_count": 14,
   "metadata": {},
   "outputs": [
    {
     "name": "stdout",
     "output_type": "stream",
     "text": [
      "C -0.6299719515232227 -0.7320562035722435 0.01452452595005664\n",
      "C -1.0546783472253567 0.6016531554090455 0.01649692839849094\n",
      "S 0.43600434848581554 1.5152142900117833 0.22633762477064764\n",
      "C 1.4926434541720353 -0.06300155442388984 0.28884641374783515\n",
      "N 0.6624798284497175 -0.858628229214857 0.1608699526576734\n",
      "H -1.3961022024712715 -1.516839883034544 -0.105549903735433\n",
      "H -2.0820683219388076 0.9891551466997455 -0.08871635801702095\n",
      "H 2.571693192051105 0.06450327812496663 0.4200743311879385\n"
     ]
    }
   ],
   "source": [
    "for i, atom in enumerate(mol.GetAtoms()):\n",
    "        positions = mol.GetConformer().GetAtomPosition(i)\n",
    "        print(atom.GetSymbol(), positions.x, positions.y, positions.z)"
   ]
  },
  {
   "cell_type": "code",
   "execution_count": 17,
   "metadata": {},
   "outputs": [
    {
     "name": "stdout",
     "output_type": "stream",
     "text": [
      "\n",
      "C     -0.649109   -0.750954    0.011545\n",
      "C     -0.987698    0.595973    0.024192\n",
      "S      0.429959    1.475851    0.224183\n",
      "C      1.410378    0.112809    0.285986\n",
      "N      0.677364   -1.014156    0.156510\n",
      "H     -1.380325   -1.539439   -0.104603\n",
      "H     -1.984961    1.002213   -0.076730\n",
      "H      2.484392    0.117705    0.411801\n"
     ]
    }
   ],
   "source": [
    "mol_1 = Chem.MolToXYZBlock(mol)\n",
    "\n",
    "# supression de la premiere liugne (numbre d atomes) pour les donnees XYZ \n",
    "mol_1 = '\\n'.join(mol_1.strip().split('\\n')[1:])\n",
    "print(mol_1)"
   ]
  },
  {
   "cell_type": "markdown",
   "metadata": {},
   "source": [
    "### **`Optimisation` de la structure 3D de notre objet mol avec ``MMFF94``**"
   ]
  },
  {
   "cell_type": "code",
   "execution_count": 18,
   "metadata": {},
   "outputs": [
    {
     "data": {
      "image/png": "[encoded data removed]",
      "text/plain": [
       "<rdkit.Chem.rdchem.Mol at 0x7f0bfa387f20>"
      ]
     },
     "execution_count": 18,
     "metadata": {},
     "output_type": "execute_result"
    }
   ],
   "source": [
    "AllChem.UFFOptimizeMolecule(mol)\n",
    "mol"
   ]
  },
  {
   "cell_type": "code",
   "execution_count": 19,
   "metadata": {},
   "outputs": [
    {
     "data": {
      "application/3dmoljs_load.v0": "<div id=\"3dmolviewer_1706533046727983\"  style=\"position: relative; width: 400px; height: 400px;\">\n        <p id=\"3dmolwarning_1706533046727983\" style=\"background-color:#ffcccc;color:black\">You appear to be running in JupyterLab (or JavaScript failed to load for some other reason).  You need to install the 3dmol extension: <br>\n        <tt>jupyter labextension install jupyterlab_3dmol</tt></p>\n        </div>\n<script>\n\nvar loadScriptAsync = function(uri){\n  return new Promise((resolve, reject) => {\n    //this is to ignore the existence of requirejs amd\n    var savedexports, savedmodule;\n    if (typeof exports !== 'undefined') savedexports = exports;\n    else exports = {}\n    if (typeof module !== 'undefined') savedmodule = module;\n    else module = {}\n\n    var tag = document.createElement('script');\n    tag.src = uri;\n    tag.async = true;\n    tag.onload = () => {\n        exports = savedexports;\n        module = savedmodule;\n        resolve();\n    };\n  var firstScriptTag = document.getElementsByTagName('script')[0];\n  firstScriptTag.parentNode.insertBefore(tag, firstScriptTag);\n});\n};\n\nif(typeof $3Dmolpromise === 'undefined') {\n$3Dmolpromise = null;\n  $3Dmolpromise = loadScriptAsync('https://cdnjs.cloudflare.com/ajax/libs/3Dmol/2.0.4/3Dmol-min.js');\n}\n\nvar viewer_1706533046727983 = null;\nvar warn = document.getElementById(\"3dmolwarning_1706533046727983\");\nif(warn) {\n    warn.parentNode.removeChild(warn);\n}\n$3Dmolpromise.then(function() {\nviewer_1706533046727983 = $3Dmol.createViewer(document.getElementById(\"3dmolviewer_1706533046727983\"),{backgroundColor:\"white\"});\nviewer_1706533046727983.zoomTo();\n\tviewer_1706533046727983.removeAllModels();\n\tviewer_1706533046727983.addModel(\"\\n     RDKit          3D\\n\\n  8  8  0  0  0  0  0  0  0  0999 V2000\\n   -0.6491   -0.7510    0.0115 C   0  0  0  0  0  0  0  0  0  0  0  0\\n   -0.9877    0.5960    0.0242 C   0  0  0  0  0  0  0  0  0  0  0  0\\n    0.4300    1.4759    0.2242 S   0  0  0  0  0  0  0  0  0  0  0  0\\n    1.4104    0.1128    0.2860 C   0  0  0  0  0  0  0  0  0  0  0  0\\n    0.6774   -1.0142    0.1565 N   0  0  0  0  0  0  0  0  0  0  0  0\\n   -1.3803   -1.5394   -0.1046 H   0  0  0  0  0  0  0  0  0  0  0  0\\n   -1.9850    1.0022   -0.0767 H   0  0  0  0  0  0  0  0  0  0  0  0\\n    2.4844    0.1177    0.4118 H   0  0  0  0  0  0  0  0  0  0  0  0\\n  1  2  2  0\\n  2  3  1  0\\n  3  4  1  0\\n  4  5  2  0\\n  5  1  1  0\\n  1  6  1  0\\n  2  7  1  0\\n  4  8  1  0\\nM  END\\n\",\"sdf\");\n\tviewer_1706533046727983.setStyle({\"stick\": {}});\n\tviewer_1706533046727983.setBackgroundColor(\"0xeeeeee\");\n\tviewer_1706533046727983.zoomTo();\nviewer_1706533046727983.render();\n});\n</script>",
      "text/html": [
       "<div id=\"3dmolviewer_1706533046727983\"  style=\"position: relative; width: 400px; height: 400px;\">\n",
       "        <p id=\"3dmolwarning_1706533046727983\" style=\"background-color:#ffcccc;color:black\">You appear to be running in JupyterLab (or JavaScript failed to load for some other reason).  You need to install the 3dmol extension: <br>\n",
       "        <tt>jupyter labextension install jupyterlab_3dmol</tt></p>\n",
       "        </div>\n",
       "<script>\n",
       "\n",
       "var loadScriptAsync = function(uri){\n",
       "  return new Promise((resolve, reject) => {\n",
       "    //this is to ignore the existence of requirejs amd\n",
       "    var savedexports, savedmodule;\n",
       "    if (typeof exports !== 'undefined') savedexports = exports;\n",
       "    else exports = {}\n",
       "    if (typeof module !== 'undefined') savedmodule = module;\n",
       "    else module = {}\n",
       "\n",
       "    var tag = document.createElement('script');\n",
       "    tag.src = uri;\n",
       "    tag.async = true;\n",
       "    tag.onload = () => {\n",
       "        exports = savedexports;\n",
       "        module = savedmodule;\n",
       "        resolve();\n",
       "    };\n",
       "  var firstScriptTag = document.getElementsByTagName('script')[0];\n",
       "  firstScriptTag.parentNode.insertBefore(tag, firstScriptTag);\n",
       "});\n",
       "};\n",
       "\n",
       "if(typeof $3Dmolpromise === 'undefined') {\n",
       "$3Dmolpromise = null;\n",
       "  $3Dmolpromise = loadScriptAsync('https://cdnjs.cloudflare.com/ajax/libs/3Dmol/2.0.4/3Dmol-min.js');\n",
       "}\n",
       "\n",
       "var viewer_1706533046727983 = null;\n",
       "var warn = document.getElementById(\"3dmolwarning_1706533046727983\");\n",
       "if(warn) {\n",
       "    warn.parentNode.removeChild(warn);\n",
       "}\n",
       "$3Dmolpromise.then(function() {\n",
       "viewer_1706533046727983 = $3Dmol.createViewer(document.getElementById(\"3dmolviewer_1706533046727983\"),{backgroundColor:\"white\"});\n",
       "viewer_1706533046727983.zoomTo();\n",
       "\tviewer_1706533046727983.removeAllModels();\n",
       "\tviewer_1706533046727983.addModel(\"\\n     RDKit          3D\\n\\n  8  8  0  0  0  0  0  0  0  0999 V2000\\n   -0.6491   -0.7510    0.0115 C   0  0  0  0  0  0  0  0  0  0  0  0\\n   -0.9877    0.5960    0.0242 C   0  0  0  0  0  0  0  0  0  0  0  0\\n    0.4300    1.4759    0.2242 S   0  0  0  0  0  0  0  0  0  0  0  0\\n    1.4104    0.1128    0.2860 C   0  0  0  0  0  0  0  0  0  0  0  0\\n    0.6774   -1.0142    0.1565 N   0  0  0  0  0  0  0  0  0  0  0  0\\n   -1.3803   -1.5394   -0.1046 H   0  0  0  0  0  0  0  0  0  0  0  0\\n   -1.9850    1.0022   -0.0767 H   0  0  0  0  0  0  0  0  0  0  0  0\\n    2.4844    0.1177    0.4118 H   0  0  0  0  0  0  0  0  0  0  0  0\\n  1  2  2  0\\n  2  3  1  0\\n  3  4  1  0\\n  4  5  2  0\\n  5  1  1  0\\n  1  6  1  0\\n  2  7  1  0\\n  4  8  1  0\\nM  END\\n\",\"sdf\");\n",
       "\tviewer_1706533046727983.setStyle({\"stick\": {}});\n",
       "\tviewer_1706533046727983.setBackgroundColor(\"0xeeeeee\");\n",
       "\tviewer_1706533046727983.zoomTo();\n",
       "viewer_1706533046727983.render();\n",
       "});\n",
       "</script>"
      ]
     },
     "metadata": {},
     "output_type": "display_data"
    }
   ],
   "source": [
    "rdkit.Chem.Draw.IPythonConsole.drawMol3D(mol, view=None, confId=-1, drawAs=None, bgColor=None, size=None)\n"
   ]
  },
  {
   "cell_type": "markdown",
   "metadata": {},
   "source": [
    "### **Génération  des coordonnées 3D des atomes de la structure optimisée**"
   ]
  },
  {
   "cell_type": "markdown",
   "metadata": {},
   "source": [
    "### **Convertir l'objet mol RDKit en format XYZ**"
   ]
  },
  {
   "cell_type": "code",
   "execution_count": 20,
   "metadata": {},
   "outputs": [
    {
     "name": "stdout",
     "output_type": "stream",
     "text": [
      "C -0.6491091575130152 -0.7509544333481333 0.011543616892348457\n",
      "C -0.9876985575958829 0.5959731461956829 0.024192004291893096\n",
      "S 0.42995983795477644 1.4758505693624653 0.22418208072374615\n",
      "C 1.410376955854046 0.11280826874102703 0.28598617791066233\n",
      "N 0.6773643409725072 -1.0141562407733302 0.15650909362615834\n",
      "H -1.3803248811404878 -1.5394391964358431 -0.10460243902096111\n",
      "H -1.9849607657290778 1.0022123283424043 -0.07672918035502226\n",
      "H 2.4843922271971506 0.11770555791579505 0.41180216089136684\n"
     ]
    }
   ],
   "source": [
    "for i, atom in enumerate(mol.GetAtoms()):\n",
    "        positions = mol.GetConformer().GetAtomPosition(i)\n",
    "        print(atom.GetSymbol(), positions.x, positions.y, positions.z)"
   ]
  },
  {
   "cell_type": "code",
   "execution_count": 21,
   "metadata": {},
   "outputs": [],
   "source": [
    "mol_xyz = Chem.MolToXYZBlock(mol)\n",
    "\n",
    "# supression de la premiere liugne (numbre d atomes) pour les donnees XYZ \n",
    "mol_xyz = '\\n'.join(mol_xyz.strip().split('\\n')[1:])"
   ]
  },
  {
   "cell_type": "code",
   "execution_count": 22,
   "metadata": {},
   "outputs": [
    {
     "name": "stdout",
     "output_type": "stream",
     "text": [
      "\n",
      "C     -0.649109   -0.750954    0.011544\n",
      "C     -0.987699    0.595973    0.024192\n",
      "S      0.429960    1.475851    0.224182\n",
      "C      1.410377    0.112808    0.285986\n",
      "N      0.677364   -1.014156    0.156509\n",
      "H     -1.380325   -1.539439   -0.104602\n",
      "H     -1.984961    1.002212   -0.076729\n",
      "H      2.484392    0.117706    0.411802\n"
     ]
    }
   ],
   "source": [
    "print(mol_xyz)"
   ]
  },
  {
   "cell_type": "markdown",
   "metadata": {},
   "source": [
    "####  `Au vue des resultats des coordonnées 3D cela suggère que la conformation initiale de la molécule était proche de sa conformation la plus stable ou la plus énergétiquement favorables`"
   ]
  },
  {
   "cell_type": "markdown",
   "metadata": {},
   "source": [
    "### Creation d'un fichier .xyz"
   ]
  },
  {
   "cell_type": "code",
   "execution_count": 23,
   "metadata": {},
   "outputs": [
    {
     "name": "stdout",
     "output_type": "stream",
     "text": [
      "Fichier XYZ généré : patrick.xyz\n"
     ]
    }
   ],
   "source": [
    "input_file = \"Fichier_xyz.txt\"  # Chemin vers le fichier texte d'entrée\n",
    "output_file = \"patrick.xyz\"  # Chemin vers le fichier XYPresentationZ de sortie\n",
    "\n",
    "# Lignes à récupérer dans le fichier texte\n",
    "lines_to_extract = [60,61,62,63,64,65,66,67,68]\n",
    "\n",
    "with open(input_file, 'r') as f_in, open(output_file, 'w') as f_out:\n",
    "    for line_number, line in enumerate(f_in, start=1):\n",
    "        if line_number in lines_to_extract:\n",
    "            f_out.write(line)\n",
    "\n",
    "print(\"Fichier XYZ généré :\", output_file)"
   ]
  },
  {
   "cell_type": "code",
   "execution_count": 24,
   "metadata": {},
   "outputs": [
    {
     "name": "stdout",
     "output_type": "stream",
     "text": [
      "  C      1.1132      0.2231     -0.4747\n",
      "  C      0.8191     -1.1118     -0.5272\n",
      "  H      2.0347      0.6814     -0.8299\n",
      "  H      1.4416     -1.9170     -0.9226\n",
      "  S     -0.1701      1.1369      0.2359\n",
      "  C     -1.0745     -0.3455      0.4400\n",
      "  N     -0.4473     -1.4266      0.0043\n",
      "  H     -2.0693     -0.4013      0.8841'''\n"
     ]
    }
   ],
   "source": [
    "  # Chemin vers le fichier texte d'entrée\n",
    "\n",
    "with open(output_file, 'r') as file:\n",
    "    mol3= file.read()\n",
    "\n",
    "# supression de la premiere liugne (numbre d atomes) pour les donnees XYZ \n",
    "mol4 = '\\n'.join(mol3.strip().split('\\n')[1:])\n",
    "print(mol4)"
   ]
  },
  {
   "cell_type": "code",
   "execution_count": 25,
   "metadata": {},
   "outputs": [
    {
     "name": "stdout",
     "output_type": "stream",
     "text": [
      "Erreur lors de la création de la molécule à partir des coordonnées atomiques.\n"
     ]
    },
    {
     "name": "stderr",
     "output_type": "stream",
     "text": [
      "[13:57:40] Unable to recognize the number of atoms: cannot convert '1.1132 0.2231 -0.4747' to unsigned int on line 0\n",
      "\n"
     ]
    }
   ],
   "source": [
    "from rdkit import Chem\n",
    "from rdkit.Chem import Draw\n",
    "\n",
    "input_file = \"patrick.xyz\"  # Chemin vers le fichier XYZ\n",
    "\n",
    "# Lecture des coordonnées à partir du fichier XYZ\n",
    "with open(input_file, 'r') as file:\n",
    "    lines = file.readlines()[1:]  # Ignorer les deux premières lignes d'en-tête\n",
    "    coordinates = [line.split()[1:4] for line in lines]\n",
    "\n",
    "# Création de l'objet Mol à partir des coordonnées atomiques\n",
    "mol = Chem.MolFromXYZBlock('\\n'.join([' '.join(coords) for coords in coordinates]))\n",
    "\n",
    "# Vérification de la création de l'objet Mol\n",
    "if mol is not None:\n",
    "    # Visualisation de la molécule en 3D\n",
    "    image = Draw.MolToImage(mol, size=(300, 300), kekulize=False)\n",
    "\n",
    "    # Affichage de l'image\n",
    "    image.show()\n",
    "else:\n",
    "    print(\"Erreur lors de la création de la molécule à partir des coordonnées atomiques.\")"
   ]
  },
  {
   "cell_type": "code",
   "execution_count": 26,
   "metadata": {},
   "outputs": [],
   "source": [
    "#mol_xyz = Chem.MolToXYZFile(mol_2,'mol_2.xyz')"
   ]
  },
  {
   "cell_type": "markdown",
   "metadata": {},
   "source": [
    "#### <a id='toc1_1_'></a>[Representation Moleculaire et Descripteurs](#toc0_)\n",
    "\n",
    "<!-- ![MolecularDimension.png](attachment:MolecularDimension.png) -->\n",
    "![MolecularDimension.png](./Graphics/MolecularDimension.png)"
   ]
  },
  {
   "cell_type": "markdown",
   "metadata": {},
   "source": [
    "1.**Descripteurs 0D**. Concernant les discripteurs « Composition », ne fournissent aucune information sur la structure moléculaire ou la connectivité des atomes.\n",
    "\n",
    "2.**Descripteurs 1D**. Lié à des ensembles de sous-structures telles que des groupes fonctionnels.\n",
    "\n",
    "3.**Descripteurs 2D**. Fonctionnalités fournissant des informations sur la topologie moléculaire basées sur la représentation graphique des molécules.\n",
    "\n",
    "4.**Descripteurs 3D**. Caractéristiques géométriques fournissant des informations sur les coordonnées spatiales des atomes d'une molécule.\n",
    "\n",
    "5.**Descripteurs 4D**. Également appelés **descripteurs basés sur une grille**, introduisent une quatrième dimension caractérisant les interactions entre les molécules et les sites actifs d'un récepteur ou les multiples états conformationnels des molécules."
   ]
  },
  {
   "cell_type": "markdown",
   "metadata": {},
   "source": [
    "### <a id='toc1_4_2_'></a>[SOLUTION](#toc0_)"
   ]
  },
  {
   "cell_type": "markdown",
   "metadata": {},
   "source": [
    "## <a id='toc1_1_'></a>[PySCF](#toc0_)\n",
    "\n",
    "<!-- ![Pyscf.png](attachment:Pyscf.png) -->\n",
    "![Pyscf.png](./Graphics/Pyscf.png)"
   ]
  },
  {
   "cell_type": "code",
   "execution_count": 27,
   "metadata": {},
   "outputs": [
    {
     "data": {
      "text/plain": [
       "'2.4.0'"
      ]
     },
     "execution_count": 27,
     "metadata": {},
     "output_type": "execute_result"
    }
   ],
   "source": [
    "import pyscf\n",
    "\n",
    "pyscf.__version__"
   ]
  },
  {
   "cell_type": "code",
   "execution_count": null,
   "metadata": {},
   "outputs": [],
   "source": [
    "from pyscf import gto\n",
    "mol = gto.Mole(\n",
    "    atom=mol_xyz,\n",
    "    charge=0,\n",
    "    spin = 0,  # 2j == nelec_alpha - nelec_beta\n",
    "    basis = 'cc-pVDZ',\n",
    "    symmetry = True, # Allow the program to apply point group symmetry if possible\n",
    "    unit = 'Angstrom',\n",
    "    )\n",
    "mol.build()"
   ]
  },
  {
   "cell_type": "code",
   "execution_count": null,
   "metadata": {},
   "outputs": [],
   "source": []
  },
  {
   "cell_type": "code",
   "execution_count": null,
   "metadata": {},
   "outputs": [],
   "source": [
    "import py3Dmol\n",
    "xyz_view = py3Dmol.view(width=300,height=300)\n",
    "xyz_view.addModel(mol.tostring(format=\"xyz\"),'xyz')\n",
    "xyz_view.setStyle({'stick':{}, \"sphere\":{\"radius\":0.4}})\n",
    "xyz_view.setBackgroundColor('0xeeeeee')\n",
    "xyz_view.show()"
   ]
  },
  {
   "cell_type": "code",
   "execution_count": 24,
   "metadata": {},
   "outputs": [
    {
     "name": "stdout",
     "output_type": "stream",
     "text": [
      "Le nombre total d'électrons est 44 et le nombre total d'électrons (alpha, béta) est (22, 22)\n",
      "Le nombre d'orbitales atomiques, dans la base cc-pVDZ, est 89\n",
      "L'énergie nucléaire vaut 206.59453232010438 Hartrees\n"
     ]
    }
   ],
   "source": [
    "print(f'Le nombre total d\\'électrons est {mol.nelectron} et le nombre total d\\'électrons (alpha, béta) est {mol.nelec}')\n",
    "print(f'Le nombre d\\'orbitales atomiques, dans la base {mol.basis}, est {mol.nao_nr()}')\n",
    "print(f'L\\'énergie nucléaire vaut {mol.energy_nuc()} Hartrees')"
   ]
  },
  {
   "cell_type": "markdown",
   "metadata": {},
   "source": [
    "### <a id='toc1_1_'></a>1.[Etudions la convergence des ensembles de base pour une série de fonctionnelles de la théorie fonctionnelle de la densité (DFT) (non hybrides (PBE, TPSS) et hybrides](#toc0_)\n",
    "\n"
   ]
  },
  {
   "cell_type": "markdown",
   "metadata": {},
   "source": [
    "## <a id='toc1_4_'></a>[Calcul du champ moyen ou mean-field](#toc0_)\n",
    "Les trois méthodes HF communément utilisées sont (voir la figure ci-dessous) :\n",
    "![HF_Orb.png](./Graphics/HF_Orb.png)\n",
    "<!-- <center>\n",
    " <img src='./Graphics/HF_Orb.png' width=400 /> \n",
    "</center> -->\n",
    "\n",
    "1. **RHF (Restricted Hartree – Fock)** utiliśee pour des molécules à couches pleines ou fermées. Les spin-orbitales sont soit $\\alpha$, soit $\\beta$ et tous les orbitales sont doublement occupés par des spin-orbitales $\\alpha$ et $\\beta$;</br> \n",
    "2. **ROHF (Restricted Open-Shell Hartree–Fock)** utilisée pour des molécules à couches ouvertes où le nombre d'électrons les orbitales n'est pas le même. ROHF utilise autant que possible les orbitales doublement occupées et les orbitales une fois occupées par les électrons non-apariés;\n",
    "3. **UHF (Unrestricted Hartree-Fock)** utilisée pour des molécules à couches ouvertes où le nombre d'électrons les orbitales n'est pas le même. Les orbitales UHF peuvent avoir avoir des spin $\\alpha$ ou $\\beta$, mais les orbitales $\\alpha$ et $\\beta$ peuvent avoir des composants spatiales différents.\n",
    "\n",
    "Les équivalents DFT sont,\n",
    "\n",
    "4. **RKS (Kohn-Sham restreint)**,\n",
    "6. **ROKS (Restricted Open-Shell Kohn – Sham)**,\n",
    "5. **UKS (Kohn-Sham sans restriction)**."
   ]
  },
  {
   "cell_type": "markdown",
   "metadata": {},
   "source": [
    "_soit la smile `C1=CSC=N1`,Pour calculer la configuration électronique de la smile C1=CSC=N1,._\n",
    "\n",
    "En utilisant la règle de l'octet, nous pouvons déterminer que la configuration électronique de la smile C1=CSC=N1 est la suivante :\n",
    "\n",
    "* Carbone Z=6: $1s^{2} 2s^{2} 2p^{2}$\n",
    "* Soufre Z=16: $1s^{2} 2s^{2} 2p^{6} 3s^{2} 2p^{6}$\n",
    "* Azote z=7: $1s^{2} 2s^{2} 2p^{3}$\n",
    "\n",
    "_nous devons d'abord déterminer le nombre de valence électrons de chaque atome_.\n",
    "\n",
    "* Carbone (C) : 4 valence électrons\n",
    "* Soufre (S) : 8 valence électrons spin(0)\n",
    "* Azote (N) : 5 valence électrons"
   ]
  },
  {
   "cell_type": "markdown",
   "metadata": {},
   "source": [
    "Les hf et dft a utliser sont respectivement `RHF`et `RKS`"
   ]
  },
  {
   "cell_type": "markdown",
   "metadata": {},
   "source": [
    "Pour cela, nous allons utiliser trois fonctionnelles à savoir `PBE`, `TPSS`, `B3LYP\n",
    "\n",
    "* `B3LYP` : est une `fonctionnelle Hybride personnalisée` qui comprend `20 %` d'échange exact (Hartree-Fock),  `8 %` d'échange `LDA`, `72 %` d'échange `B88`, `19 %` de corrélation `VWN` et `81 %` de corrélation `LYP`.\n",
    "\n",
    "* `PBE` : est une fonctionnelle non hybride, car la fonctionnelle d'échange et de corrélation sont toutes les deux `PBE`.\n",
    "* `TPSS` : également est une fonctionnelle non hybride parce que la fonctionnalité d'échange étant la même que la fonctionnalité corrélation `TPSS`.\n"
   ]
  },
  {
   "cell_type": "code",
   "execution_count": 25,
   "metadata": {},
   "outputs": [],
   "source": [
    "import numpy as np\n",
    "\n",
    "# Define the functionals of the density functional theory (DFT)\\\n",
    "functionals = ['PBE', 'TPSS', 'B3LYP']\n",
    "\n",
    "# Define the calculation methods\n",
    "methods = ['DFT', 'MP2', 'CCSD', 'CCSD(T)']"
   ]
  },
  {
   "cell_type": "code",
   "execution_count": 26,
   "metadata": {},
   "outputs": [
    {
     "name": "stderr",
     "output_type": "stream",
     "text": [
      "/home/mvoto/miniconda3/envs/tartarus/lib/python3.8/site-packages/pyscf/dft/libxc.py:771: UserWarning: Since PySCF-2.3, B3LYP (and B3P86) are changed to the VWN-RPA variant, corresponding to the original definition by Stephens et al. (issue 1480) and the same as the B3LYP functional in Gaussian. To restore the VWN5 definition, you can put the setting \"B3LYP_WITH_VWN5 = True\" in pyscf_conf.py\n",
      "  warnings.warn('Since PySCF-2.3, B3LYP (and B3P86) are changed to the VWN-RPA variant, '\n"
     ]
    },
    {
     "name": "stdout",
     "output_type": "stream",
     "text": [
      "converged SCF energy = -568.681285884097\n",
      "converged SCF energy = -569.116081719472\n",
      "converged SCF energy = -569.069362597561\n",
      "PBE: -568.6813 eV, 26.3814 seconds, Reference: -568.6896 eV, Difference: 5.2417 kcal/mol\n",
      "TPSS: -569.1161 eV, 73.9189 seconds, Reference: -569.0974 eV, Difference: -11.6960 kcal/mol\n",
      "B3LYP: -569.0694 eV, 26.7775 seconds, Reference: -569.0433 eV, Difference: -16.3828 kcal/mol\n"
     ]
    }
   ],
   "source": [
    "# Initialize the dictionary to store the energies and reference values\n",
    "from pyscf import dft\n",
    "import time\n",
    "references = {'PBE': -568.689639, 'TPSS': -569.097443, 'B3LYP': -569.043255}\n",
    "values = {functional: [] for functional in functionals}\n",
    "\n",
    "# Perform the calculations\n",
    "for functional in functionals:\n",
    "    start = time.time()\n",
    "    myks = dft.RKS(mol, xc=functional).run()\n",
    "    end = time.time()\n",
    "    values[functional].append(myks.e_tot)\n",
    "    values[functional].append(end - start)\n",
    "    values[functional].append(references[functional])  # Add the reference value\n",
    "    values[functional].append((myks.e_tot - references[functional]) * 627.5095)  # Calculate the difference in kcal/mol\n",
    "\n",
    "# Print the results\n",
    "for functional, energy in values.items():\n",
    "    print(f'{functional}: {energy[0]:.4f} eV, {energy[1]:.4f} seconds, Reference: {energy[2]:.4f} eV, Difference: {energy[3]:.4f} kcal/mol')"
   ]
  },
  {
   "cell_type": "markdown",
   "metadata": {},
   "source": [
    "#### _Selon les résultats du calcul SCF, nous pouvons constater que la fonctionnelle `PBE` fournit une énergie supérieure d'une valeur de `-568.6813 eV`, avec un temps de calcul relativement moyen de `23.5953 `secondes, par rapport aux fonctionnelles `B3LYP` qui offre une énergie moyenne de `-569.0694 eV` avec un temps minimal de ` 25.4000` secondes, et `TPSS` qui fournit une énergie très faible de `-569.1161 eV` avec un temps de calcul très élevé de `66.7556 ` secondes. En se basant sur les temps de calcul et les valeurs d'énergie, nous pouvons conclure que la méthode hybride `B3LYP` reste la plus appropriée pour cette molécule avec une erreur minimale sur la valeur de reférence  par rapport au deux autres fonctionnelle de $\\Delta{E}$= `-16.3828 kcal/mol` ._"
   ]
  },
  {
   "cell_type": "markdown",
   "metadata": {},
   "source": [
    "### <a id='toc1_1_'></a>2.[Comparons les calculs DFT, MP2, CCSD et CCSD(T)](#toc0_)"
   ]
  },
  {
   "cell_type": "markdown",
   "metadata": {},
   "source": [
    "#### <a id='toc1_1_'></a>2.1[ calcul DFT](#toc0_)"
   ]
  },
  {
   "cell_type": "code",
   "execution_count": 28,
   "metadata": {},
   "outputs": [
    {
     "name": "stdout",
     "output_type": "stream",
     "text": [
      "converged SCF energy = -569.069362597561\n"
     ]
    }
   ],
   "source": [
    "start = time.time()\n",
    "mdf=dft.RKS(mol, xc=\"B3LYP\").run()\n",
    "mdf_time = time.time() - start"
   ]
  },
  {
   "cell_type": "markdown",
   "metadata": {},
   "source": [
    "#### <a id='toc1_1_'></a>2.2[Calcule MP2, CCSD et CCSD(T)](#toc0_)"
   ]
  },
  {
   "cell_type": "markdown",
   "metadata": {},
   "source": [
    "#### <a id='toc1_1_'></a>2.2.1[Calcule du MF (mean field)](#toc0_)"
   ]
  },
  {
   "cell_type": "code",
   "execution_count": 31,
   "metadata": {},
   "outputs": [
    {
     "name": "stdout",
     "output_type": "stream",
     "text": [
      "converged SCF energy = -560.833058369546\n"
     ]
    }
   ],
   "source": [
    "from pyscf import scf\n",
    "start = time.time()\n",
    "myhf = scf.RHF(mol).run()\n",
    "myhf_time = time.time() - start "
   ]
  },
  {
   "cell_type": "markdown",
   "metadata": {},
   "source": [
    "#### <a id='toc1_1_'></a>2.2.2[Calcule du MP2(Møller-Plesset ) ](#toc0_)\n",
    "La [MP2](https://en.wikipedia.org/wiki/M%C3%B8ller%E2%80%93Plesset_perturbation_theory) effectue des corrections perturbatives de l'approximation Hartree-Fock."
   ]
  },
  {
   "cell_type": "code",
   "execution_count": 30,
   "metadata": {},
   "outputs": [
    {
     "name": "stdout",
     "output_type": "stream",
     "text": [
      "E(MP2) = -568.021321861974  E_corr = -0.710979304526205\n",
      "E(SCS-MP2) = -567.994770045137  E_corr = -0.684427487689731\n",
      "-568.0213218619739\n"
     ]
    }
   ],
   "source": [
    "from pyscf import mp\n",
    "start = time.time()\n",
    "mymp2 = mp.MP2(myhf).run()\n",
    "mymp2_time = time.time() - start +  myhf_time\n",
    "energie1=mymp2.e_tot\n",
    "print(energie1)"
   ]
  },
  {
   "cell_type": "markdown",
   "metadata": {},
   "source": [
    "* `E(MP2) = -568.021321861972` : C'est l'énergie totale calculée avec la méthode `MP2`. Cette énergie inclut à la fois l'énergie d'électronélectron de `Hartree-Fock (HF)` et la correction de corrélation électronique de deuxième ordre `(MP2)`. La valeur négative indique que le système moléculaire est lié et stable.\n",
    "\n",
    "* `E_corr = -0.710979304526207` : C'est la correction de corrélation électronique calculée avec la méthode `MP2`. Elle représente la différence entre l'énergie totale calculée avec `MP2` et l'énergie d'électronélectron calculée avec `HF`. La valeur négative indique que la correction de corrélation électronique est stabilisante, c'est-à-dire qu'elle améliore l'approximation HF en prenant en compte les effets de corrélation électronique supplémentaires.\n",
    "\n",
    "* `E(SCS-MP2) = -567.994770045135` : C'est l'énergie totale calculée avec la méthode `SCS-MP2`. `SCS-MP2` est une version modifiée de `MP2` qui utilise des coefficients d'échelle spécifiques pour améliorer la description de la corrélation électronique. La valeur négative indique que le système moléculaire est lié et stable.\n",
    "\n",
    "* `E_corr = -0.684427487689735 `: C'est la correction de corrélation électronique calculée avec la méthode `SCS-MP2`. Elle représente la différence entre l'énergie totale calculée avec `SCS-MP2` et l'énergie d'électronélectron calculée avec `HF`. Comme pour `MP2`, la valeur négative indique que la correction de corrélation électronique est stabilisante."
   ]
  },
  {
   "cell_type": "markdown",
   "metadata": {},
   "source": [
    "#### <a id='toc1_1_'></a>2.2.3[Calcule du  CCSD avec CC](#toc0_)\n",
    "* La [CC(Coupled_cluster)](https://en.wikipedia.org/wiki/Coupled_cluster) est une méthode perturbative qui améliore l'approximation de Hartree-Fock."
   ]
  },
  {
   "cell_type": "code",
   "execution_count": 31,
   "metadata": {},
   "outputs": [
    {
     "name": "stdout",
     "output_type": "stream",
     "text": [
      "E(CCSD) = -568.0433171160405  E_corr = -0.7329745585929255\n",
      "-568.0433171160405\n"
     ]
    }
   ],
   "source": [
    "from pyscf import cc\n",
    "\n",
    "start = time.time()\n",
    "mycc = cc.CCSD(myhf).run()\n",
    "mycc_time = time.time() - start +myhf_time\n",
    "energie2=mycc.e_tot\n",
    "print(energie2)"
   ]
  },
  {
   "cell_type": "markdown",
   "metadata": {},
   "source": [
    "* `E_corr = -0.7329745585929444 `:  Elle représente la différence entre l'énergie totale calculée avec `CCSD` et l'énergie d'électronélectron calculée avec `HF`. La valeur négative indique que la correction de corrélation électronique est stabilisante, c'est-à-dire qu'elle améliore l'approximation HF en prenant en compte les effets de corrélation électronique supplémentaires."
   ]
  },
  {
   "cell_type": "markdown",
   "metadata": {},
   "source": [
    "#### <a id='toc1_1_'></a>2.2.4[Calcule du  CCSD(T) avec CCSD](#toc0_)"
   ]
  },
  {
   "cell_type": "code",
   "execution_count": 32,
   "metadata": {},
   "outputs": [
    {
     "name": "stdout",
     "output_type": "stream",
     "text": [
      "CCSD(T) correction = -0.0329794304219503\n"
     ]
    }
   ],
   "source": [
    "start = time.time()\n",
    "e_ccsd_t = mycc.ccsd_t()\n",
    "mycct_time = time.time() - start + myhf_time"
   ]
  },
  {
   "cell_type": "markdown",
   "metadata": {},
   "source": [
    "##### création d'un dataframe avec `pandas` "
   ]
  },
  {
   "cell_type": "code",
   "execution_count": 33,
   "metadata": {},
   "outputs": [],
   "source": [
    "mf_times = [mdf_time, mymp2_time, mycc_time, mycct_time]\n",
    "energies = [mdf.e_tot,energie1,energie2,energie2+e_ccsd_t]\n",
    "ref_energies=[-569.077723,-568.010849,-568.030302\t,-568.069584]\n",
    "ecart_energies=[(mdf.e_tot + 569.077723)*627.5095,(energie1 + 569.077723)*627.5095,(energie2 + 569.077723)*627.5095,(energie2+e_ccsd_t + 569.077723)*627.5095]"
   ]
  },
  {
   "cell_type": "code",
   "execution_count": 34,
   "metadata": {},
   "outputs": [
    {
     "data": {
      "text/html": [
       "<div>\n",
       "<style scoped>\n",
       "    .dataframe tbody tr th:only-of-type {\n",
       "        vertical-align: middle;\n",
       "    }\n",
       "\n",
       "    .dataframe tbody tr th {\n",
       "        vertical-align: top;\n",
       "    }\n",
       "\n",
       "    .dataframe thead th {\n",
       "        text-align: right;\n",
       "    }\n",
       "</style>\n",
       "<table border=\"1\" class=\"dataframe\">\n",
       "  <thead>\n",
       "    <tr style=\"text-align: right;\">\n",
       "      <th></th>\n",
       "      <th>Methodes</th>\n",
       "      <th>Total energy</th>\n",
       "      <th>Reference energy</th>\n",
       "      <th>ecart_ref_tot(kcal/mol)</th>\n",
       "      <th>Time</th>\n",
       "    </tr>\n",
       "  </thead>\n",
       "  <tbody>\n",
       "    <tr>\n",
       "      <th>0</th>\n",
       "      <td>DFT</td>\n",
       "      <td>-569.069363</td>\n",
       "      <td>-569.077723</td>\n",
       "      <td>5.246232</td>\n",
       "      <td>28.595802</td>\n",
       "    </tr>\n",
       "    <tr>\n",
       "      <th>1</th>\n",
       "      <td>MP2</td>\n",
       "      <td>-568.021322</td>\n",
       "      <td>-568.010849</td>\n",
       "      <td>662.901750</td>\n",
       "      <td>3.707364</td>\n",
       "    </tr>\n",
       "    <tr>\n",
       "      <th>2</th>\n",
       "      <td>CCSD</td>\n",
       "      <td>-568.043317</td>\n",
       "      <td>-568.030302</td>\n",
       "      <td>649.099519</td>\n",
       "      <td>114.463448</td>\n",
       "    </tr>\n",
       "    <tr>\n",
       "      <th>3</th>\n",
       "      <td>CCSD(T)</td>\n",
       "      <td>-568.076297</td>\n",
       "      <td>-568.069584</td>\n",
       "      <td>628.404613</td>\n",
       "      <td>97.059392</td>\n",
       "    </tr>\n",
       "  </tbody>\n",
       "</table>\n",
       "</div>"
      ],
      "text/plain": [
       "  Methodes  Total energy  Reference energy  ecart_ref_tot(kcal/mol)  \\\n",
       "0      DFT   -569.069363       -569.077723                 5.246232   \n",
       "1      MP2   -568.021322       -568.010849               662.901750   \n",
       "2     CCSD   -568.043317       -568.030302               649.099519   \n",
       "3  CCSD(T)   -568.076297       -568.069584               628.404613   \n",
       "\n",
       "         Time  \n",
       "0   28.595802  \n",
       "1    3.707364  \n",
       "2  114.463448  \n",
       "3   97.059392  "
      ]
     },
     "execution_count": 34,
     "metadata": {},
     "output_type": "execute_result"
    }
   ],
   "source": [
    "# Create the results dataframe\n",
    "import pandas as pd\n",
    "\n",
    "df_HF = pd.DataFrame({\"Methodes\":methods, \n",
    "                      'Total energy':energies,\n",
    "                      \"Reference energy\":ref_energies,\n",
    "                      \"ecart_ref_tot(kcal/mol)\":ecart_energies,\n",
    "                      \"Time\":mf_times})\n",
    "\n",
    "df_HF"
   ]
  },
  {
   "cell_type": "markdown",
   "metadata": {},
   "source": [
    "### En effectuant un calcul d'erreur de nos résultats sur ceux théoriques, nous pouvons conclure que la methode de calcul  `DFT` est la meilleure car $\\Delta{E}$= `5.246232 Kcal/mol` est minimale."
   ]
  },
  {
   "cell_type": "markdown",
   "metadata": {},
   "source": [
    "#### utilisation de `Matplotlib` pour generer des figures avec 'plt`"
   ]
  },
  {
   "cell_type": "code",
   "execution_count": 35,
   "metadata": {},
   "outputs": [
    {
     "data": {
      "image/png": "[encoded data removed]",
      "text/plain": [
       "<Figure size 800x500 with 2 Axes>"
      ]
     },
     "metadata": {},
     "output_type": "display_data"
    },
    {
     "data": {
      "image/png": "[encoded data removed]",
      "text/plain": [
       "<Figure size 800x500 with 2 Axes>"
      ]
     },
     "metadata": {},
     "output_type": "display_data"
    },
    {
     "data": {
      "image/png": "[encoded data removed]",
      "text/plain": [
       "<Figure size 640x480 with 1 Axes>"
      ]
     },
     "metadata": {},
     "output_type": "display_data"
    }
   ],
   "source": [
    "# Plotting\n",
    "import matplotlib.pyplot as plt\n",
    "\n",
    "# Create the matplotlib figure\n",
    "fig, ax = plt.subplots(figsize=(8,5))\n",
    "\n",
    "# Plot the energies\n",
    "ax.set_xticks(range(len(methods)), methods)\n",
    "ax.set_xlabel(\"Method\")\n",
    "ax.set_ylabel(\"Energy (Ha)\", color=\"b\")\n",
    "ax.scatter(range(len(methods)), energies, marker=\"o\", s=50, color=\"b\")\n",
    "ax.set_xlabel(\"Method\")\n",
    "\n",
    "# Plot the time to solution\n",
    "ax_time = ax.twinx()# Plotting\n",
    "import matplotlib.pyplot as plt\n",
    "\n",
    "# Create the matplotlib figure\n",
    "fig, ax = plt.subplots(figsize=(8,5))\n",
    "\n",
    "# Plot the energies\n",
    "ax.set_xticks(range(len(methods)), methods)\n",
    "ax.set_xlabel(\"Method\")\n",
    "ax.set_ylabel(\"Energy (Ha)\", color=\"b\")\n",
    "ax.scatter(range(len(methods)), energies, marker=\"o\", s=50, color=\"b\") \n",
    "ax.set_xlabel(\"Method\")\n",
    "\n",
    "# Plot the time to solution\n",
    "ax_time = ax.twinx()\n",
    "ax_time.scatter(range(len(methods)), mf_times, marker=\"s\", s=50, color=\"r\")\n",
    "ax_time.set_ylabel(\"Time to solution (s)\", color=\"r\", rotation=270, va=\"bottom\")\n",
    "\n",
    "# Show the graph\n",
    "plt.tick_params(axis=\"both\", direction=\"in\")\n",
    "plt.show()\n",
    "ax_time.scatter(range(len(methods)), mf_times, marker=\"s\", s=50, color=\"r\")\n",
    "ax_time.set_ylabel(\"Time to solution (s)\", color=\"r\", rotation=270, va=\"bottom\")\n",
    "# Show the graph\n",
    "\n",
    "plt.tick_params(axis=\"both\", direction=\"in\")\n",
    "plt.show()"
   ]
  },
  {
   "cell_type": "markdown",
   "metadata": {},
   "source": [
    "### <a id='toc1_1_'></a>[Interprétation des resultats obtenus](#toc0_)\n"
   ]
  },
  {
   "cell_type": "markdown",
   "metadata": {},
   "source": [
    "_La méthode `DFT (Density Functional Theory)` fournit des résultats plus précis que les méthodes d'amélioration `HF (Hartree-Fock)` et un temps de calcul plus raisonnable que les méthodes `CCSD (Coupled Cluster Singles and Doubles)` et `CCSD(T) (Coupled Cluster Singles, Doubles, and Perturbative Triples)`. On note également que parmi les méthodes d'amélioration `HF`, seul `MP2 (Møller-Plesset second order perturbation theory)` présente une meilleure rapidité d'exécution supérieure à celle de `DFT` et des valeurs d'énergie proches de celles de cette dernière._"
   ]
  },
  {
   "cell_type": "markdown",
   "metadata": {},
   "source": [
    "### <a id='toc1_1_'></a>3.[ Calcul des propriétés Gap energy, Fluorescence energy, Singlet-Triplet gap,Oscillator strength, Lifetime, Multi-objective function.](#toc0_)\n"
   ]
  },
  {
   "cell_type": "markdown",
   "metadata": {},
   "source": [
    "#### <a id='toc1_1_'></a>3.1[ Definition d'une fonction qui calcule les propriétés Gap energy, Fluorescence energy, Singlet-Triplet gap,Oscillator strength, Lifetime, Multi-objective function et l'aient rappel en sortie en prenant en entr `numpy`,l'accelerite `c`, la conversion  du `hartree` en eV avec `au2ev` le mf avec  `mypyscf` et le calcul `TDDFT` avec `mvoto`.](#toc0_)"
   ]
  },
  {
   "cell_type": "code",
   "execution_count": 36,
   "metadata": {},
   "outputs": [],
   "source": [
    "def find_energy(mypyscf, au2ev,mvoto,c,np):\n",
    "    \"\"\"Function that returns the HOMO and LUMO index with the gap energy,the Singlet excitation ,the Triplet excitation ,the fluorescence energy ,the Singlet-Tiplet gap , the Oscillator strength in eV with also Lifetime and Multi-Objective function \n",
    "to\n",
    "    Args:\n",
    "        mypyscf (pyscf object): pyscf meam-field object of the molecule mytd be evaluated.\n",
    "    \"\"\"\n",
    "    # Index of HOMO and LUMOmytd\n",
    "    lumo_idx = mypyscf.mo_occ.tolist().index(0.)\n",
    "    homo_idx = lumo_idx - 1\n",
    "    # Calculate the gap Homo-LUMO\n",
    "    E_HOMO = mypyscf.mo_energy[homo_idx]*au2ev\n",
    "    E_LUMO = mypyscf.mo_energy[lumo_idx]*au2ev\n",
    "    E_g = abs(E_HOMO - E_LUMO)\n",
    "    # Singlet excitation energies\n",
    "    ee_singlets = mvoto.e\n",
    "    # Singlet oscillators strength\n",
    "    OS_singlets = mvoto.oscillator_strength(gauge='length')\n",
    "    mvoto.singlet = False\n",
    "    mvoto.kernel()\n",
    "    # Triplet excitation energies\n",
    "    ee_triplets = mvoto.e\n",
    "    # fluorescence energy\n",
    "    f_energy = min(ee_singlets)\n",
    "    \n",
    "    # Singlet-Tiplet gap\n",
    "    gap_ST = min(ee_singlets) - min(ee_triplets)\n",
    "    # Oscillator strength\n",
    "    OStr = OS_singlets[0]\n",
    "\n",
    "    #Lifetimemytd\n",
    "    time_au = 2.4188843265857E-17 # in au\n",
    "\n",
    "    tau_au = c**3 / (2 * (f_energy)**2 * OStr) # in au\n",
    "    tau = tau_au * time_au # in seconds\n",
    "    # Multi-Objective function\n",
    "    mobj = OStr - gap_ST * au2ev - np.abs(f_energy * au2ev - 3.2)\n",
    "\n",
    "    return E_HOMO, E_LUMO, E_g,ee_singlets,ee_triplets, f_energy,gap_ST,OStr,tau,mobj "
   ]
  },
  {
   "cell_type": "code",
   "execution_count": 37,
   "metadata": {},
   "outputs": [],
   "source": [
    "from pyscf.data import nist\n",
    "#conversion en eV\n",
    "au2ev = nist.HARTREE2EV\n",
    "# Lifetime calculation in au\n",
    "c = nist.LIGHT_SPEED # in au"
   ]
  },
  {
   "cell_type": "code",
   "execution_count": 38,
   "metadata": {},
   "outputs": [
    {
     "name": "stdout",
     "output_type": "stream",
     "text": [
      "converged SCF energy = -569.069362597562\n",
      "**** MO energy ****\n",
      "MO #1   energy= -88.9212913312519  occ= 2\n",
      "MO #2   energy= -14.3315410214147  occ= 2\n",
      "MO #3   energy= -10.247848114778   occ= 2\n",
      "MO #4   energy= -10.2214725270157  occ= 2\n",
      "MO #5   energy= -10.2201270301352  occ= 2\n",
      "MO #6   energy= -7.98573818215127  occ= 2\n",
      "MO #7   energy= -5.94839585348508  occ= 2\n",
      "MO #8   energy= -5.94451106525094  occ= 2\n",
      "MO #9   energy= -5.94279650867893  occ= 2\n",
      "MO #10  energy= -0.962805817312379 occ= 2\n",
      "MO #11  energy= -0.808307258914899 occ= 2\n",
      "MO #12  energy= -0.748167783021854 occ= 2\n",
      "MO #13  energy= -0.594930253957278 occ= 2\n",
      "MO #14  energy= -0.57760094658622  occ= 2\n",
      "MO #15  energy= -0.50761913183943  occ= 2\n",
      "MO #16  energy= -0.436615125939246 occ= 2\n",
      "MO #17  energy= -0.430356208645323 occ= 2\n",
      "MO #18  energy= -0.413658327169757 occ= 2\n",
      "MO #19  energy= -0.363485102360084 occ= 2\n",
      "MO #20  energy= -0.286758202335871 occ= 2\n",
      "MO #21  energy= -0.26821843536013  occ= 2\n",
      "MO #22  energy= -0.254626707112296 occ= 2\n",
      "MO #23  energy= -0.0300011160047132 occ= 0\n",
      "MO #24  energy= 0.0394892437975659 occ= 0\n",
      "MO #25  energy= 0.0475752744427125 occ= 0\n",
      "MO #26  energy= 0.0661237095358157 occ= 0\n",
      "MO #27  energy= 0.100453105387321  occ= 0\n",
      "MO #28  energy= 0.117405403821285  occ= 0\n",
      "MO #29  energy= 0.133074868139916  occ= 0\n",
      "MO #30  energy= 0.208724079348922  occ= 0\n",
      "MO #31  energy= 0.280419385583698  occ= 0\n",
      "MO #32  energy= 0.344994129265372  occ= 0\n",
      "MO #33  energy= 0.380988843974263  occ= 0\n",
      "MO #34  energy= 0.422146131688246  occ= 0\n",
      "MO #35  energy= 0.448803926905443  occ= 0\n",
      "MO #36  energy= 0.450749644367032  occ= 0\n",
      "MO #37  energy= 0.466329467304193  occ= 0\n",
      "MO #38  energy= 0.480594032707597  occ= 0\n",
      "MO #39  energy= 0.498611999452884  occ= 0\n",
      "MO #40  energy= 0.499313689060374  occ= 0\n",
      "MO #41  energy= 0.512723769965813  occ= 0\n",
      "MO #42  energy= 0.561947130826396  occ= 0\n",
      "MO #43  energy= 0.5642177111252    occ= 0\n",
      "MO #44  energy= 0.591089432245978  occ= 0\n",
      "MO #45  energy= 0.607914495404963  occ= 0\n",
      "MO #46  energy= 0.611705013061865  occ= 0\n",
      "MO #47  energy= 0.660103608738407  occ= 0\n",
      "MO #48  energy= 0.695425392754113  occ= 0\n",
      "MO #49  energy= 0.74516180418504   occ= 0\n",
      "MO #50  energy= 0.788996519809941  occ= 0\n",
      "MO #51  energy= 0.857415152155826  occ= 0\n",
      "MO #52  energy= 0.860926584308131  occ= 0\n",
      "MO #53  energy= 0.878571789262186  occ= 0\n",
      "MO #54  energy= 0.89720475600468   occ= 0\n",
      "MO #55  energy= 0.950715247878764  occ= 0\n",
      "MO #56  energy= 0.984030129709585  occ= 0\n",
      "MO #57  energy= 1.04925110809964   occ= 0\n",
      "MO #58  energy= 1.06487817012662   occ= 0\n",
      "MO #59  energy= 1.06854262834523   occ= 0\n",
      "MO #60  energy= 1.09845890987946   occ= 0\n",
      "MO #61  energy= 1.13400625503807   occ= 0\n",
      "MO #62  energy= 1.2311623230356    occ= 0\n",
      "MO #63  energy= 1.29072474740292   occ= 0\n",
      "MO #64  energy= 1.35984561853637   occ= 0\n",
      "MO #65  energy= 1.39521484991079   occ= 0\n",
      "MO #66  energy= 1.48824844622092   occ= 0\n",
      "MO #67  energy= 1.50676350165219   occ= 0\n",
      "MO #68  energy= 1.52191664948073   occ= 0\n",
      "MO #69  energy= 1.59976247414852   occ= 0\n",
      "MO #70  energy= 1.6411698145321    occ= 0\n",
      "MO #71  energy= 1.64241271796114   occ= 0\n",
      "MO #72  energy= 1.66693062692737   occ= 0\n",
      "MO #73  energy= 1.68589744553537   occ= 0\n",
      "MO #74  energy= 1.73891127607553   occ= 0\n",
      "MO #75  energy= 1.812356810924     occ= 0\n",
      "MO #76  energy= 1.93256898210059   occ= 0\n",
      "MO #77  energy= 1.95951477223204   occ= 0\n",
      "MO #78  energy= 1.96587823650512   occ= 0\n",
      "MO #79  energy= 2.00969271440675   occ= 0\n",
      "MO #80  energy= 2.1412545375692    occ= 0\n",
      "MO #81  energy= 2.19257963040376   occ= 0\n",
      "MO #82  energy= 2.28064880780349   occ= 0\n",
      "MO #83  energy= 2.32118964934974   occ= 0\n",
      "MO #84  energy= 2.43916800496573   occ= 0\n",
      "MO #85  energy= 2.47962292957335   occ= 0\n",
      "MO #86  energy= 2.6242809880878    occ= 0\n",
      "MO #87  energy= 2.68876708848292   occ= 0\n",
      "MO #88  energy= 2.76762618917109   occ= 0\n",
      "MO #89  energy= 3.04570012117164   occ= 0\n",
      " ** Mulliken atomic charges  **\n",
      "charge of    0C =     -0.02901\n",
      "charge of    1C =     -0.28689\n",
      "charge of    2S =      0.33436\n",
      "charge of    3C =     -0.15070\n",
      "charge of    4N =     -0.26111\n",
      "charge of    5H =      0.11919\n",
      "charge of    6H =      0.13623\n",
      "charge of    7H =      0.13794\n",
      "Dipole moment(X, Y, Z, Debye): -0.67323,  1.37697, -0.02537\n"
     ]
    },
    {
     "data": {
      "text/plain": [
       "((array([1.99989200e+00, 9.73646655e-01, 6.26721925e-03, 9.51365704e-01,\n",
       "         1.03992561e+00, 1.02604631e+00, 1.04826997e-02, 1.03217311e-02,\n",
       "         1.65428354e-03, 2.54383817e-03, 8.52401765e-04, 1.74636333e-03,\n",
       "         1.61608446e-03, 2.64860828e-03, 1.99989066e+00, 1.03799210e+00,\n",
       "         4.50288718e-03, 1.05679505e+00, 1.03362515e+00, 1.12808494e+00,\n",
       "         6.61099708e-03, 6.56359621e-03, 4.01362632e-03, 2.71240415e-03,\n",
       "         8.26972772e-04, 2.41787159e-03, 1.53459359e-03, 1.31980727e-03,\n",
       "         1.99999899e+00, 1.99978890e+00, 1.63186437e+00, 6.15398074e-03,\n",
       "         1.99987559e+00, 1.99991118e+00, 1.99992067e+00, 9.91695057e-01,\n",
       "         1.40504973e+00, 1.56935708e+00, 1.63047988e-02, 5.88327259e-03,\n",
       "         2.29050260e-03, 1.13290069e-02, 5.32313460e-03, 6.30248458e-03,\n",
       "         9.95112607e-03, 4.64309375e-03, 1.99989458e+00, 1.03213885e+00,\n",
       "         5.45812527e-03, 1.08149029e+00, 9.11914157e-01, 1.08273112e+00,\n",
       "         7.03166739e-03, 1.33737726e-02, 3.72451616e-03, 3.89689309e-03,\n",
       "         1.93448132e-03, 2.30772768e-03, 1.56253870e-03, 3.23919938e-03,\n",
       "         1.99991952e+00, 1.41376010e+00, 7.12030896e-03, 1.16562723e+00,\n",
       "         1.50642673e+00, 1.14343946e+00, 7.12251590e-03, 6.42915267e-03,\n",
       "         1.18615645e-03, 2.44518614e-03, 1.94269307e-03, 2.44982725e-03,\n",
       "         7.73410278e-04, 2.46878755e-03, 8.68671088e-01, 1.01306727e-02,\n",
       "         7.15177762e-04, 1.02655446e-03, 2.71493162e-04, 8.51834679e-01,\n",
       "         9.95228405e-03, 1.35629682e-03, 2.58649449e-04, 3.70128825e-04,\n",
       "         8.48795726e-01, 1.11513500e-02, 1.62540114e-03, 1.64193451e-04,\n",
       "         3.24172957e-04]),\n",
       "  array([-0.02900952, -0.28689067,  0.33435703, -0.15069791, -0.26111107,\n",
       "          0.11918501,  0.13622796,  0.13793916])),\n",
       " array([-0.67322966,  1.37697119, -0.02537426]))"
      ]
     },
     "execution_count": 38,
     "metadata": {},
     "output_type": "execute_result"
    }
   ],
   "source": [
    "mdf.kernel()\n",
    "mdf.analyze()"
   ]
  },
  {
   "cell_type": "markdown",
   "metadata": {},
   "source": [
    "### Calculs des états excités singulets avec la TDDFT\n",
    "\n",
    "Effectuons les calculs sans l'approximation TDA.\n",
    "![Abs_emiss.png](Graphics/Abs_emiss.png)"
   ]
  },
  {
   "cell_type": "code",
   "execution_count": 39,
   "metadata": {},
   "outputs": [
    {
     "name": "stdout",
     "output_type": "stream",
     "text": [
      "TD-SCF states [0, 1, 2] not converged.\n",
      "Excited State energies (eV)\n",
      "[0.82168219 3.13736292 8.12887447]\n",
      "\n",
      "** Singlet excitation energies and oscillator strengths **\n",
      "Excited State   1:    A      0.82168 eV   1508.91 nm  f=0.3947\n",
      "       7 -> 35        0.11423\n",
      "       9 -> 36        0.11410\n",
      "       9 -> 46       -0.11062\n",
      "      10 -> 23       -0.53305\n",
      "      10 -> 24        0.26547\n",
      "      10 -> 25        0.16358\n",
      "      10 -> 28        0.12270\n",
      "      10 -> 37       -0.15010\n",
      "      11 -> 23       -0.25490\n",
      "      11 -> 24       -0.21251\n",
      "      11 -> 25        0.20543\n",
      "      11 -> 27        0.11759\n",
      "      11 -> 32        0.11307\n",
      "      11 -> 33       -0.19677\n",
      "      11 -> 40        0.13367\n",
      "      11 -> 42        0.10585\n",
      "      11 -> 44        0.14331\n",
      "      11 -> 46        0.11336\n",
      "      11 -> 49       -0.11474\n",
      "      12 -> 24       -0.32456\n",
      "      12 -> 25        0.20360\n",
      "      12 -> 28        0.13212\n",
      "      12 -> 30        0.23751\n",
      "      12 -> 40        0.17699\n",
      "      12 -> 43        0.13505\n",
      "      12 -> 58       -0.12722\n",
      "      13 -> 23        0.15951\n",
      "      13 -> 24        0.22541\n",
      "      13 -> 26        0.15828\n",
      "      13 -> 27       -0.14973\n",
      "      13 -> 33        0.22458\n",
      "      13 -> 34        0.14370\n",
      "      13 -> 38        0.16148\n",
      "      13 -> 39        0.26728\n",
      "      13 -> 46        0.21290\n",
      "      13 -> 49       -0.10508\n",
      "      13 -> 50       -0.10612\n",
      "      13 -> 55        0.12554\n",
      "      13 -> 58       -0.17092\n",
      "      13 -> 63        0.14781\n",
      "      14 -> 23       -0.15035\n",
      "      14 -> 24        0.16077\n",
      "      14 -> 27        0.12683\n",
      "      14 -> 32       -0.21847\n",
      "      14 -> 35       -0.10089\n",
      "      14 -> 41        0.20936\n",
      "      14 -> 58        0.10007\n",
      "      14 -> 61        0.14387\n",
      "      14 -> 63       -0.10682\n",
      "      14 -> 64        0.11866\n",
      "      14 -> 65       -0.11894\n",
      "      15 -> 23        0.10674\n",
      "      15 -> 24        0.11673\n",
      "      15 -> 26       -0.10138\n",
      "      15 -> 31        0.15603\n",
      "      15 -> 32        0.12559\n",
      "      15 -> 33        0.14821\n",
      "      15 -> 36        0.14698\n",
      "      15 -> 44       -0.13950\n",
      "      15 -> 45        0.12117\n",
      "      15 -> 53       -0.10663\n",
      "      15 -> 55        0.12524\n",
      "      15 -> 64        0.16764\n",
      "      15 -> 66       -0.13173\n",
      "      16 -> 23       -0.10474\n",
      "      16 -> 24        0.30000\n",
      "      16 -> 25       -0.10572\n",
      "      16 -> 26        0.22375\n",
      "      16 -> 28       -0.17283\n",
      "      16 -> 29       -0.11372\n",
      "      16 -> 30       -0.28855\n",
      "      16 -> 31        0.34629\n",
      "      16 -> 32        0.10951\n",
      "      16 -> 35       -0.16877\n",
      "      16 -> 37       -0.17611\n",
      "      16 -> 38       -0.10161\n",
      "      16 -> 39       -0.17723\n",
      "      16 -> 40        0.20820\n",
      "      16 -> 41       -0.20032\n",
      "      16 -> 44       -0.14765\n",
      "      16 -> 57       -0.13405\n",
      "      16 -> 58        0.20699\n",
      "      16 -> 61        0.25669\n",
      "      16 -> 63        0.11263\n",
      "      17 -> 23        0.22388\n",
      "      17 -> 24       -0.20695\n",
      "      17 -> 25        0.13889\n",
      "      17 -> 26        0.24334\n",
      "      17 -> 28       -0.18065\n",
      "      17 -> 30        0.11228\n",
      "      17 -> 31        0.23424\n",
      "      17 -> 35       -0.16191\n",
      "      17 -> 40        0.11946\n",
      "      17 -> 41        0.13228\n",
      "      17 -> 46        0.15836\n",
      "      17 -> 53        0.12637\n",
      "      17 -> 55        0.12979\n",
      "      17 -> 63        0.18290\n",
      "      17 -> 70        0.10385\n",
      "      17 -> 83       -0.14173\n",
      "      18 -> 23        0.52968\n",
      "      18 -> 24       -0.11807\n",
      "      18 -> 25        0.21421\n",
      "      18 -> 26       -0.32286\n",
      "      18 -> 27       -0.35430\n",
      "      18 -> 28        0.35077\n",
      "      18 -> 29       -0.34579\n",
      "      18 -> 30       -0.36322\n",
      "      18 -> 32       -0.12702\n",
      "      18 -> 33       -0.20911\n",
      "      18 -> 34       -0.16287\n",
      "      18 -> 38        0.14398\n",
      "      18 -> 39        0.18332\n",
      "      18 -> 40        0.19638\n",
      "      18 -> 41       -0.16186\n",
      "      18 -> 44        0.12069\n",
      "      18 -> 45        0.10060\n",
      "      18 -> 51       -0.11174\n",
      "      18 -> 52        0.13274\n",
      "      19 -> 24        0.39357\n",
      "      19 -> 27        0.28456\n",
      "      19 -> 28       -0.27906\n",
      "      19 -> 29        0.13484\n",
      "      19 -> 33        0.17119\n",
      "      19 -> 34        0.12449\n",
      "      19 -> 38        0.15332\n",
      "      19 -> 40        0.12545\n",
      "      19 -> 49       -0.10954\n",
      "      19 -> 51       -0.11640\n",
      "      19 -> 54        0.16591\n",
      "      19 -> 64       -0.12805\n",
      "      19 -> 66       -0.11748\n",
      "      20 -> 25        0.56334\n",
      "      20 -> 29       -0.21985\n",
      "      20 -> 30       -0.17253\n",
      "      20 -> 31       -0.23976\n",
      "      20 -> 33        0.18624\n",
      "      20 -> 34        0.10067\n",
      "      20 -> 37        0.11624\n",
      "      20 -> 38       -0.25955\n",
      "      20 -> 39        0.21766\n",
      "      20 -> 40       -0.30525\n",
      "      20 -> 43       -0.23481\n",
      "      20 -> 44       -0.20671\n",
      "      20 -> 51        0.20498\n",
      "      20 -> 52       -0.21987\n",
      "      20 -> 60        0.10412\n",
      "      21 -> 24        0.14846\n",
      "      21 -> 25       -0.22597\n",
      "      21 -> 26       -0.61303\n",
      "      21 -> 29        0.23217\n",
      "      21 -> 30       -0.22282\n",
      "      21 -> 31       -0.18436\n",
      "      21 -> 33       -0.19594\n",
      "      21 -> 34       -0.15820\n",
      "      21 -> 40       -0.18776\n",
      "      21 -> 42       -0.11155\n",
      "      21 -> 43       -0.16305\n",
      "      21 -> 51        0.35465\n",
      "      21 -> 52        0.21466\n",
      "      21 -> 55       -0.18315\n",
      "      21 -> 61        0.12610\n",
      "      21 -> 71        0.10692\n",
      "      21 -> 82       -0.24890\n",
      "      22 -> 23       -0.11997\n",
      "      22 -> 24       -0.27818\n",
      "      22 -> 25        0.30492\n",
      "      22 -> 26        0.66069\n",
      "      22 -> 27       -0.71283\n",
      "      22 -> 28       -0.34656\n",
      "      22 -> 29       -0.10790\n",
      "      22 -> 31        0.21954\n",
      "      22 -> 34        0.13169\n",
      "      22 -> 35        0.43722\n",
      "      22 -> 37        0.24360\n",
      "      22 -> 38       -0.12188\n",
      "      22 -> 39        0.24664\n",
      "      22 -> 40       -0.10377\n",
      "      22 -> 42        0.10533\n",
      "      22 -> 44       -0.11802\n",
      "      22 -> 45       -0.12788\n",
      "      22 -> 52       -0.11326\n",
      "      22 -> 53        0.15768\n",
      "      22 -> 54       -0.14064\n",
      "      22 -> 55        0.13087\n",
      "      22 -> 57       -0.15594\n",
      "      22 -> 59       -0.11099\n",
      "      22 -> 61        0.14612\n",
      "      22 -> 63       -0.12513\n",
      "      22 -> 75        0.23509\n",
      "Excited State   2:    A      3.13736 eV    395.19 nm  f=4.9510\n",
      "      12 -> 47        0.10377\n",
      "      14 -> 27        0.11477\n",
      "      16 -> 23       -0.12046\n",
      "      16 -> 24        0.10590\n",
      "      16 -> 27       -0.14387\n",
      "      17 -> 24       -0.13810\n",
      "      17 -> 26       -0.11045\n",
      "      17 -> 29       -0.11859\n",
      "      18 -> 23       -0.10424\n",
      "      18 -> 24       -0.10151\n",
      "      19 -> 23       -0.25739\n",
      "      19 -> 24       -0.14578\n",
      "      19 -> 25        0.22427\n",
      "      20 -> 24       -0.27819\n",
      "      20 -> 30       -0.14710\n",
      "      21 -> 25       -0.16080\n",
      "      21 -> 31        0.15307\n",
      "      22 -> 23       -0.71388\n",
      "      22 -> 25       -0.18722\n",
      "      22 -> 38       -0.12182\n",
      "Excited State   3:    A      8.12887 eV    152.52 nm  f=0.0131\n",
      "      18 -> 23       -0.11464\n",
      "      20 -> 23       -0.15582\n",
      "      20 -> 25        0.15588\n",
      "      21 -> 23       -0.34684\n",
      "      21 -> 24        0.21181\n",
      "      21 -> 25       -0.10243\n",
      "      21 -> 26       -0.16163\n",
      "      22 -> 23        0.25406\n",
      "      22 -> 26       -0.17823\n",
      "      22 -> 27       -0.16394\n",
      "\n",
      "** Transition electric dipole moments (AU) **\n",
      "state          X           Y           Z        Dip. S.      Osc.\n",
      "  1        -0.0864     -2.3089      3.7771     19.6046      0.3947\n",
      "  2        -7.6538      2.0242     -1.3173     64.4130      4.9510\n",
      "  3        -0.1314     -0.1900     -0.1110      0.0657      0.0131\n",
      "\n",
      "** Transition velocity dipole moments (imaginary part, AU) **\n",
      "state          X           Y           Z        Dip. S.      Osc.\n",
      "  1        -0.1738     -0.2155      0.2669      0.1479      3.2648\n",
      "  2        -0.1277     -0.0708     -0.2921      0.1066      0.6165\n",
      "  3         0.1112      0.0050     -0.1288      0.0290      0.0647\n",
      "\n",
      "** Transition magnetic dipole moments (imaginary part, AU) **\n",
      "state          X           Y           Z\n",
      "  1         1.6453     -0.3698     -0.2484\n",
      "  2        -0.0585     -0.0084      0.8040\n",
      "  3         0.7244      0.5425      0.2165\n"
     ]
    },
    {
     "data": {
      "text/plain": [
       "<pyscf.tdscf.rks.TDDFT at 0x7fddc01fbac0>"
      ]
     },
     "execution_count": 39,
     "metadata": {},
     "output_type": "execute_result"
    }
   ],
   "source": [
    "from pyscf import tddft\n",
    "mytd = tddft.TDDFT(mdf)\n",
    "mytd.kernel()\n",
    "mytd.analyze(verbose=4)"
   ]
  },
  {
   "cell_type": "markdown",
   "metadata": {},
   "source": [
    "Effectuons les calculs avec l'approximation TDA."
   ]
  },
  {
   "cell_type": "code",
   "execution_count": 40,
   "metadata": {},
   "outputs": [
    {
     "name": "stdout",
     "output_type": "stream",
     "text": [
      "Excited State energies (eV)\n",
      "[5.1196349  6.09954121 6.5633223 ]\n",
      "\n",
      "** Singlet excitation energies and oscillator strengths **\n",
      "Excited State   1:    A      5.11963 eV    242.17 nm  f=0.0002\n",
      "      21 -> 23        0.70543\n",
      "Excited State   2:    A      6.09954 eV    203.27 nm  f=0.1006\n",
      "      20 -> 23        0.24593\n",
      "      20 -> 24        0.13604\n",
      "      21 -> 25       -0.11440\n",
      "      22 -> 23       -0.59424\n",
      "      22 -> 24        0.17632\n",
      "Excited State   3:    A      6.56332 eV    188.90 nm  f=0.0744\n",
      "      20 -> 23        0.55440\n",
      "      21 -> 25       -0.12515\n",
      "      22 -> 23        0.30060\n",
      "      22 -> 24        0.24015\n",
      "\n",
      "** Transition electric dipole moments (AU) **\n",
      "state          X           Y           Z        Dip. S.      Osc.\n",
      "  1         0.0047      0.0016     -0.0400      0.0016      0.0002\n",
      "  2        -0.6368      0.5146     -0.0545      0.6734      0.1006\n",
      "  3         0.6568      0.1565      0.0829      0.4628      0.0744\n",
      "\n",
      "** Transition velocity dipole moments (imaginary part, AU) **\n",
      "state          X           Y           Z        Dip. S.      Osc.\n",
      "  1        -0.0005     -0.0002      0.0041      0.0000      0.0001\n",
      "  2         0.0355     -0.0169      0.0035      0.0016      0.0046\n",
      "  3        -0.0084     -0.0349     -0.0023      0.0013      0.0036\n",
      "\n",
      "** Transition magnetic dipole moments (imaginary part, AU) **\n",
      "state          X           Y           Z\n",
      "  1        -0.6553     -0.3049     -0.0885\n",
      "  2        -0.0442     -0.0147      0.3778\n",
      "  3         0.0438      0.0145     -0.3742\n"
     ]
    },
    {
     "data": {
      "text/plain": [
       "<pyscf.tdscf.rks.TDA at 0x7fddc01fbbe0>"
      ]
     },
     "execution_count": 40,
     "metadata": {},
     "output_type": "execute_result"
    }
   ],
   "source": [
    "mytda = tddft.TDA(mdf)\n",
    "mytda.kernel()\n",
    "mytda.analyze(verbose=4)"
   ]
  },
  {
   "cell_type": "markdown",
   "metadata": {},
   "source": [
    "\n",
    "\n",
    "\n",
    "\n",
    "\n",
    "\n",
    "## Energie de gap HOMO-LUMO\n",
    "\n",
    "La bande interdite $E_g$ se calcule en déterminant l'énergie de l'orbite moléculaire la plus occupée (HOMO) et l'énergie de l'orbite moléculaire la plus basse inoccupée (LUMO) :\n",
    "\n",
    "$$E_g = E_{\\rm LUMO} - E_{\\rm HOMO}$$\n",
    "\n",
    "![Molecule_HOMO-LUMO_diagram](Graphics/Molecule_HOMO-LUMO_diagram.png)\n",
    "\n",
    "Chaque cercle représente ici un électron dans une orbitale ; lorsque la lumière ou l'énergie d'une fréquence suffisamment élevée est absorbée par un électron dans le HOMO, il saute vers le LUMO."
   ]
  },
  {
   "cell_type": "markdown",
   "metadata": {},
   "source": [
    "#### Energie de gap avec HF"
   ]
  },
  {
   "cell_type": "code",
   "execution_count": 41,
   "metadata": {},
   "outputs": [
    {
     "name": "stdout",
     "output_type": "stream",
     "text": [
      "TD-SCF states [0, 1] not converged.\n",
      "Excited State energies (eV)\n",
      "[0.77956181 2.8538828  3.59165907]\n",
      "Homo Energy = -9.236437097907718 eV, \n",
      "Lumo Energy = 3.0164615101184693 eV, \n",
      "Gap Energy = 12.252898608026188 eV\n"
     ]
    }
   ],
   "source": [
    "Ehf_homo , Ehf_lumo , Ehf_g, ee_singlets, ee_triplets, f_energy,gap_ST,OStr,  tau,mobj =find_energy(myhf, au2ev,mytd,c,np)\n",
    "print(f'Homo Energy = {Ehf_homo} eV, \\nLumo Energy = {Ehf_lumo} eV, \\nGap Energy = {Ehf_g} eV')"
   ]
  },
  {
   "cell_type": "markdown",
   "metadata": {},
   "source": [
    "#### Energie de gap avec DFT"
   ]
  },
  {
   "cell_type": "code",
   "execution_count": 42,
   "metadata": {},
   "outputs": [
    {
     "name": "stdout",
     "output_type": "stream",
     "text": [
      "Excited State energies (eV)\n",
      "[3.59165909 4.56098513 4.90201269]\n",
      "Homo Energy = -6.9287456182341725 eV, \n",
      "Lumo Energy = -0.8163719486350516 eV, \n",
      "Gap Energy = 6.112373669599121 eV\n"
     ]
    }
   ],
   "source": [
    "\n",
    "Edft_homo , Edft_lumo, Edft_g, ee_singlets, ee_triplets, f_energy,gap_ST,OStr,  tau,mobj =find_energy(mdf, au2ev,mytd,c,np)\n",
    "print(f'Homo Energy = {Edft_homo} eV, \\nLumo Energy = {Edft_lumo} eV, \\nGap Energy = {Edft_g} eV')"
   ]
  },
  {
   "cell_type": "markdown",
   "metadata": {},
   "source": [
    "_Compte tenu des resultats de l'energie du gap nous pouvons conclure que la dft offre un meilleurs resultats plus acceptable que celle hf_"
   ]
  },
  {
   "cell_type": "markdown",
   "metadata": {},
   "source": [
    "### Calculs des propriétés electronique\n",
    "\n",
    "* creation d'un DataFrame avec `pandas` et stackage dans un fichier"
   ]
  },
  {
   "cell_type": "code",
   "execution_count": 43,
   "metadata": {},
   "outputs": [
    {
     "data": {
      "text/html": [
       "<div>\n",
       "<style scoped>\n",
       "    .dataframe tbody tr th:only-of-type {\n",
       "        vertical-align: middle;\n",
       "    }\n",
       "\n",
       "    .dataframe tbody tr th {\n",
       "        vertical-align: top;\n",
       "    }\n",
       "\n",
       "    .dataframe thead th {\n",
       "        text-align: right;\n",
       "    }\n",
       "</style>\n",
       "<table border=\"1\" class=\"dataframe\">\n",
       "  <thead>\n",
       "    <tr style=\"text-align: right;\">\n",
       "      <th></th>\n",
       "      <th>eV/ns</th>\n",
       "    </tr>\n",
       "  </thead>\n",
       "  <tbody>\n",
       "    <tr>\n",
       "      <th>Homo energy</th>\n",
       "      <td>-6.928746</td>\n",
       "    </tr>\n",
       "    <tr>\n",
       "      <th>LUMO energy</th>\n",
       "      <td>-0.816372</td>\n",
       "    </tr>\n",
       "    <tr>\n",
       "      <th>Gap energy</th>\n",
       "      <td>6.112374</td>\n",
       "    </tr>\n",
       "    <tr>\n",
       "      <th>Fluorescence energy</th>\n",
       "      <td>0.779562</td>\n",
       "    </tr>\n",
       "    <tr>\n",
       "      <th>Singlet-Triplet gap</th>\n",
       "      <td>-2.812097</td>\n",
       "    </tr>\n",
       "    <tr>\n",
       "      <th>Oscillator strength</th>\n",
       "      <td>9.193227</td>\n",
       "    </tr>\n",
       "    <tr>\n",
       "      <th>Lifetime</th>\n",
       "      <td>4.124975</td>\n",
       "    </tr>\n",
       "    <tr>\n",
       "      <th>Multi-Obj</th>\n",
       "      <td>9.584886</td>\n",
       "    </tr>\n",
       "  </tbody>\n",
       "</table>\n",
       "</div>"
      ],
      "text/plain": [
       "                        eV/ns\n",
       "Homo energy         -6.928746\n",
       "LUMO energy         -0.816372\n",
       "Gap energy           6.112374\n",
       "Fluorescence energy  0.779562\n",
       "Singlet-Triplet gap -2.812097\n",
       "Oscillator strength  9.193227\n",
       "Lifetime             4.124975\n",
       "Multi-Obj            9.584886"
      ]
     },
     "execution_count": 43,
     "metadata": {},
     "output_type": "execute_result"
    }
   ],
   "source": [
    "import pandas as pd\n",
    "\n",
    "# Create the results dataframe\n",
    "list_results_TDA = [Edft_homo, Edft_lumo,  Edft_g, f_energy* au2ev, gap_ST* au2ev, OStr, tau* 1E+9, mobj]\n",
    "dict_results_TDA = {'eV/ns': list_results_TDA}\n",
    "\n",
    "df_TDA = pd.DataFrame(dict_results_TDA,\n",
    "                    index = ['Homo energy', 'LUMO energy', 'Gap energy', \n",
    "                             'Fluorescence energy',\n",
    "                             'Singlet-Triplet gap',\n",
    "                             'Oscillator strength',\n",
    "                             'Lifetime',\n",
    "                             'Multi-Obj'])\n",
    "\n",
    "df_TDA"
   ]
  },
  {
   "cell_type": "markdown",
   "metadata": {},
   "source": [
    "### Analyse des resultats "
   ]
  },
  {
   "cell_type": "markdown",
   "metadata": {},
   "source": [
    "En analysant les résultats obtenus pour votre molécule, voici une conclusion générale que vous pourriez tirer :\n",
    "\n",
    "* Le calcul DFT a révélé un écart significatif entre l'énergie du niveau d'orbitale moléculaire la plus élevée (LUMO) et celle du niveau d'orbitale moléculaire la plus basse (HOMO), avec une valeur de 6.112385 eV. Ce gap élevé suggère une certaine stabilité de la molécule, avec une forte séparation entre les niveaux d'énergie des électrons impliqués dans les réactions chimiques.\n",
    "\n",
    "* De plus, l'énergie de fluorescence calculée pour la molécule est de 0.900904 eV, indiquant la quantité d'énergie émise lors de la transition entre les niveaux d'énergie électroniques excités et les niveaux d'énergie fondamentaux. Cette valeur peut être utilisée pour évaluer les propriétés photophysiques de la molécule, notamment sa fluorescence.\n",
    "\n",
    "* L'écart entre les états singulet et triplet, également connu sous le nom de \"singlet-triplet gap\", a été calculé à -2.690764 eV. Cet écart est important car il peut influencer les propriétés de réactivité chimique, les processus de transfert d'énergie et les propriétés magnétiques de la molécule.\n",
    "\n",
    "* En outre, l'intensité d'oscillation, mesurée par l'oscillator strength, a été obtenue avec une valeur de 2.234287. Cette quantité indique la probabilité de transition entre les états électroniques et est utilisée pour évaluer l'intensité des transitions optiques.\n",
    "\n",
    "* Enfin, la durée de vie de l'état excité, également appelée lifetime, a été calculée à 12.708502 ns. Cette valeur représente le temps moyen pendant lequel la molécule reste dans un état électronique excité avant de revenir à son état fondamental.\n"
   ]
  },
  {
   "cell_type": "markdown",
   "metadata": {},
   "source": [
    "### <a id='toc1_1_'></a>4.[Tracons le spectre UV/Vis avec les trois fonctionnelles précédentes.](#toc0_)"
   ]
  },
  {
   "cell_type": "markdown",
   "metadata": {},
   "source": [
    "* Définissons une distribution Gaussienne ($e^{-\\frac{(x-\\mu)^2}{2\\sigma^2}}$) qui est un moyen approximatif de se rapprocher de la forme de la ligne pour chaque excitation. "
   ]
  },
  {
   "cell_type": "code",
   "execution_count": 44,
   "metadata": {},
   "outputs": [],
   "source": [
    "def gaussian(x, mu, sig):\n",
    "    return np.exp(-np.power(x - mu, 2.) / (2 * np.power(sig, 2.)))\n"
   ]
  },
  {
   "cell_type": "markdown",
   "metadata": {},
   "source": [
    "* Créons une fonction pour calculer l'état fondamental avec la DFT, et les états excités avec la TD-DFT-TDA et effectuer l'analyse spectrale. "
   ]
  },
  {
   "cell_type": "code",
   "execution_count": 45,
   "metadata": {},
   "outputs": [],
   "source": [
    "def run_spectral_analysis(mol, xc=\"lda\"):\n",
    "    n_states=15\n",
    "    spectral_width=0.1\n",
    "\n",
    "    # Ground State DFT\n",
    "    mf = dft.RKS(mol, xc=xc).run()\n",
    "\n",
    "    # Excited State DFT\n",
    "    mytd = tddft.TDA(mf)    \n",
    "    mytd.nstates = n_states\n",
    "    mytd.max_space = 100\n",
    "    mytd.max_cycle = 200\n",
    "    mytd.kernel();\n",
    "    mytd.analyze()\n",
    "    osc_strengths = mytd.oscillator_strength()[:n_states-5]\n",
    "\n",
    "    # Convolve lineshapes to make spectra\n",
    "    energies_ev = mytd.e[:n_states-5]*au2ev    \n",
    "    x_range = np.linspace(energies_ev.min()*0.9, energies_ev.max()*1.1, num=1000)\n",
    "    intensity = np.zeros(x_range.size)    \n",
    "\n",
    "    for e, f in zip(energies_ev, osc_strengths):\n",
    "        intensity += gaussian(x_range, e, spectral_width) * f\n",
    "\n",
    "    # Rough Normalization\n",
    "    dx = (x_range[-1] - x_range[0])/x_range.size\n",
    "    area = (intensity*dx).sum()\n",
    "    intensity /= area\n",
    "\n",
    "\n",
    "    return x_range, intensity    "
   ]
  },
  {
   "cell_type": "code",
   "execution_count": null,
   "metadata": {},
   "outputs": [],
   "source": [
    "data = {\"Excitation Energy (eV)\":[], \"Intensity\":[], \"Exchange-Correlation Functional\":[]}\n",
    "\n",
    "\n",
    "for xc in functionals:\n",
    "    ti = time.time()\n",
    "    x_range, intensity = run_spectral_analysis(mol, xc=xc)\n",
    "\n",
    "    data[\"Excitation Energy (eV)\"] += x_range.tolist()\n",
    "    data[\"Intensity\"] += intensity.tolist()\n",
    "    data[\"Exchange-Correlation Functional\"] += [xc]*x_range.size\n",
    "    tf = time.time()\n",
    "    print(f\"Time for {xc.upper()} calculations: {tf-ti:.2f}\\n\")\n",
    "\n",
    "df = pd.DataFrame(data)"
   ]
  },
  {
   "cell_type": "code",
   "execution_count": null,
   "metadata": {},
   "outputs": [],
   "source": [
    "import plotly.express as px\n",
    "\n",
    "fig = px.line(df, x=\"Excitation Energy (eV)\", y=\"Intensity\", markers=True, color=\"Exchange-Correlation Functional\")\n",
    "fig.show()"
   ]
  },
  {
   "cell_type": "code",
   "execution_count": null,
   "metadata": {},
   "outputs": [],
   "source": [
    "df"
   ]
  },
  {
   "cell_type": "markdown",
   "metadata": {},
   "source": [
    "### <a id='toc1_1_'></a>[Analyse des resultats obtenue et discution](#toc0_)"
   ]
  },
  {
   "cell_type": "markdown",
   "metadata": {},
   "source": [
    "#### * D'après les résultats on remarque que l’énergie d'excitation  commence a environ `$4.189641eV$` avec  une intensité de `1.581125 $e^{-08}$` pour la fonctionnelle `non hybride PBE` ,par contre pour le `non hybride TPSS` commence a environs `$4,40148eV$` avec une intensité `=31.72673n` et  la fonctionnelle `hybride BELYP` commence a environs `4.66791 $eV$` avec une intensité de `1,47.909n` .\n",
    "\n",
    "#### * Lorsqu'on se fixe dans l'intervalle `[5.9 , 6,1]eV` on constate que `B3LYP` possédé la plus grande valeurs de pics d’intensité soit d'environ egale a `1,970547` a `6.096308eV` d'energie d'excitation suivi du `TPSS` avec `E=6,014085eV` pour `I=1.670259` alors que  le `PBE` pour `E=5,956401eV` on `I=1.42625` .\n",
    "\n",
    "#### * Lorsqu'on se fixe dans l'intervalle `[6.4 , 6,6]eV` on constate que `PBE` possede la pic le plus eleve d'intensité soit d'environ egale a `1,982713` a `6.431114eV` d'énergie d'excitation suivi du `TPSS` avec `E=6,514406eV` pour `I=1.79214` alors que  le B3LYP pour `E=6,548061eV` on `I=1.44143`.  \n",
    "\n",
    "#### * Lorsqu'on se fixe dans l'intervalle `[7.3 , 8]eV` on constate qu'elle on pratiquement a moyenne la meme taille de pics  le  `TPSS` dépassé légèrement avec pour une intensité d'environ égale a `0,2850184`légèrement a `7.6515eV` d’énergie d'excitation suivi du `BELYP` avec `E=7,85169eV` pour `I=0.2290683` alors que  le `PBE` pour `E=7.50438eV` on `I=0.2465383`."
   ]
  },
  {
   "cell_type": "markdown",
   "metadata": {},
   "source": [
    "#### On peut conclure de maniere gsénérale pour le choix de la fonctionnelle il est important pour calcules des énergies de la molécules `1,3-Thiazole` de choisir la fonctionnelle   `hybride B3LYP` qui reste le méilleur choix des fonctionnelles pour ce calcul par sa qualité des resultats et le temps de calculs"
   ]
  },
  {
   "cell_type": "code",
   "execution_count": 27,
   "metadata": {},
   "outputs": [],
   "source": [
    "basis_sets = [\n",
    "    \"STO-3G\",           # Simple zeta, minimal basis\n",
    "    \"3-21G\",            # Double zeta with 3 Gaussian primitives\n",
    "    \"6-31G\",            # Double zeta with 6 Gaussian primitives\n",
    "    \"6-31G*\",           # Double zeta with 6 Gaussian primitives\n",
    "    \"6-31G(d,p)\",       # Polarization functions (+ 5 d-orbitals for all atoms except H, +3 p-orbitals for H atoms) added\n",
    "    \"6-311G(d,p)\",      # Triple zeta with polarization functions\n",
    "    \"6-311+G(d,p)\",     # Triple zeta with polarization functions and diffuse functions\n",
    "    \"cc-pvqz\",          # Quadruple zeta\n",
    "    \"cc-pv5z\",          # Quintuple zeta\n",
    "    \"def2-SVP\",         # Double zeta with polarization functions\n",
    "    \"def2-SVPD\",         # Double zeta with polarization functions and diffuse functions\n",
    "    \"def2-TZVP\",        # Triple zeta with polarization functions\n",
    "    \"def2-TZVPD\",       # Triple zeta with polarization functions and diffuse functions\n",
    "    \"def2-TZVPP\",       # Triple zeta with polarization functions and diffuse functions\n",
    "    \"def2-TZVPPD\",      # Triple zeta with polarization functions, diffuse functions, and d functions\n",
    "    \"def2-QZVP\",        # Quadruple zeta with polarization functions\n",
    "    \"def2-QZVPP\",       # Quadruple zeta with polarization functions and diffuse functions\n",
    "    \"def2-QZVPPD\",      # Quadruple zeta with polarization functions, diffuse functions, and d functions\n",
    "    \"def2-QZVPD\",       # Quadruple zeta with polarization functions and diffuse functions\n",
    "    \"def2-QZVPPD\",      # Quadruple zeta with polarization functions, diffuse functions, and d functions\n",
    "]"
   ]
  },
  {
   "cell_type": "code",
   "execution_count": null,
   "metadata": {},
   "outputs": [
    {
     "name": "stdout",
     "output_type": "stream",
     "text": [
      "converged SCF energy = -560.833058369546\n",
      "converged SCF energy = -564.345418377611\n",
      "converged SCF energy = -567.143521367421\n",
      "converged SCF energy = -567.274908744025\n",
      "converged SCF energy = -567.280758626385\n",
      "converged SCF energy = -567.337139004565\n",
      "converged SCF energy = -567.342154019721\n",
      "converged SCF energy = -567.389517565685\n"
     ]
    }
   ],
   "source": [
    "import time\n",
    "\n",
    "mf_energies = list()\n",
    "mf_times = list()\n",
    "nb_prim = list()\n",
    "\n",
    "# Perform a Mean-Field calculation for each basis set\n",
    "for bs in basis_sets:\n",
    "\n",
    "    # Measure execution time\n",
    "    start = time.time()\n",
    "    mol.basis = bs\n",
    "    mol.build()\n",
    "\n",
    "    mf = scf.RHF(mol)\n",
    "    mf.kernel()\n",
    "    end = time.time()\n",
    "\n",
    "    nb_prim.append(mol.npgto_nr())\n",
    "    mf_energies.append(mf.e_tot)\n",
    "    mf_times.append(end-start)\n"
   ]
  },
  {
   "cell_type": "code",
   "execution_count": null,
   "metadata": {},
   "outputs": [],
   "source": [
    "# Create the results dataframe\n",
    "import pandas as pd\n",
    "\n",
    "df_HF = pd.DataFrame({\"Basis\":basis_sets, \n",
    "                      'Nb of GTO primitives':nb_prim, \n",
    "                      'Total energy':mf_energies,\n",
    "                      \"Time\":mf_times})\n",
    "\n",
    "df_HF\n",
    "\n"
   ]
  },
  {
   "cell_type": "code",
   "execution_count": null,
   "metadata": {},
   "outputs": [],
   "source": [
    "import matplotlib.pyplot as plt\n",
    "\n",
    "# Create the matplotlib figure\n",
    "fig, ax = plt.subplots(figsize=(8,5))\n",
    "\n",
    "# Plot the energies.\n",
    "ax.set_xticks(range(len(basis_sets)), basis_sets, rotation=45)\n",
    "ax.set_xlabel(\"Basis set\")\n",
    "ax.set_ylabel(\"Energy / Hartree\", color=\"b\")\n",
    "ax.scatter(range(len(basis_sets)), mf_energies, marker=\"o\", s=50, color=\"b\")\n",
    "\n",
    "# Plot the time to solution\n",
    "ax_time = ax.twinx()\n",
    "ax_time.scatter(range(len(basis_sets)), mf_times, marker=\"s\", s=50, color=\"r\")\n",
    "ax_time.set_ylabel(\"Time to solution / s\", color=\"r\", rotation=270, va=\"bottom\")\n",
    "\n",
    "# Show the graph\n",
    "plt.tick_params(axis=\"both\", direction=\"in\")\n",
    "plt.show()"
   ]
  },
  {
   "cell_type": "markdown",
   "metadata": {},
   "source": [
    "* `HF/Def2TZVP` : C'est une base de définition augmentée similaire à\n",
    "* `HF/Def2TZVPP`: mais sans les fonctions de polarisation p.\n",
    "\n",
    "* `HF/Def2QZVP` : Cette base de définition augmentée inclut une quadruple zeta pour les orbitales valence (aug-cc-pVQZ en notation standard) et est similaire à `HF/Def2TZVPP` mais plus coûteuse en termes de calculs.\n",
    "* `HF/Def2-QZVPP` : Une base de définition augmentée avec une quadruple zeta pour les orbitales valence et une triple zeta polarisée pour les orbitales de cœur.\n",
    "* `HF/Def2-QZVPPD` : Cette base de définition augmentée inclut une quadruple zeta pour les orbitales valence, une triple zeta polarisée pour les orbitales de cœur et des  fonctions diffuses pour une meilleure description des électrons périphériques.\n",
    "* `HF/Def2-QZVPPD-F12` : Une base de définition augmentée avec une quadruple zeta pour les orbitales valence, une triple zeta polarisée pour les orbitales de cœur, des fonctions diffuses et des corrections `F12` pour améliorer la précision des calculs d'énergie.\n",
    "Ces"
   ]
  },
  {
   "cell_type": "code",
   "execution_count": 57,
   "metadata": {},
   "outputs": [
    {
     "name": "stdout",
     "output_type": "stream",
     "text": [
      "converged SCF energy = -567.310342557447\n",
      "converged SCF energy = -567.310342557446\n",
      "converged SCF energy = -567.310342557444\n",
      "converged SCF energy = -567.310342557446\n",
      "converged SCF energy = -567.310342557447\n",
      "converged SCF energy = -567.310342557446\n",
      "converged SCF energy = -567.310342557447\n",
      "converged SCF energy = -567.310342557448\n",
      "Calculations completed. Results saved.\n",
      "Calculations completed. Results saved.\n"
     ]
    }
   ],
   "source": [
    "import pandas as pd\n",
    "import os\n",
    "import time\n",
    "from pyscf import gto, scf\n",
    "\n",
    "basis_sets = [\n",
    "    \"3-21G\",            # Double zeta with 3 Gaussian primitives\n",
    "    \"6-31G\",            # Double zeta with 6 Gaussian primitives\n",
    "    \"6-311G(d,p)\",      # Triple zeta with polarization functions\n",
    "    \"6-311+G(d,p)\",     # Triple zeta with polarization functions and diffuse functions\n",
    "    \"cc-pvqz\",          # Quadruple zeta\n",
    "    \"cc-pv5z\",          # Quintuple zeta\n",
    "]\n",
    "basis_sets1 = [\n",
    "    \"def2-SVP\",         # Double zeta with polarization functions\n",
    "    \"def2-SVPD\",         # Double zeta with polarization functions and diffuse functions\n",
    "    \"def2-TZVP\",        # Triple zeta with polarization functions\n",
    "    \"def2-TZVPD\",       # Triple zeta with polarization functions and diffuse functions\n",
    "    \"def2-QZVP\",        # Quadruple zeta with polarization functions\n",
    "    \"def2-QZVPP\",       # Quadruple zeta with polarization functions and diffuse functions\n",
    "]\n",
    "\n",
    "# Création du répertoire de destination s'il n'existe pas\n",
    "output_directory = \"output\"\n",
    "if not os.path.exists(output_directory):\n",
    "    os.makedirs(output_directory)\n",
    "\n",
    "# Création du dataframe pour stocker les résultats\n",
    "data = pd.DataFrame(columns=[\"Basis Set\", \"Energy (Hartree)\", \"Calculation Time\"])\n",
    "data1 = pd.DataFrame(columns=[\"Basis Set1\", \"Energy (Hartree)\", \"Energy (kcal/mol)\", \"Calculation Time\"])\n",
    "\n",
    "for bs, bs1 in zip(basis_sets, basis_sets1):\n",
    "    mol.basis = bs\n",
    "    \n",
    "    start = time.time()\n",
    "    mf = scf.RHF(mol)\n",
    "    mf.kernel()\n",
    "    end = time.time()\n",
    "    start1 = time.time()\n",
    "    mf1 = scf.RHF(mol)\n",
    "    mf1.kernel()\n",
    "    end1 = time.time()\n",
    "\n",
    "    # Calculating energy in kcal/mol\n",
    "    energy_hartree = mf.e_tot\n",
    "    energy_hartree1 = mf1.e_tot\n",
    "    energy_kcal_per_mol = ( energy_hartree-energy_hartree1)* 627.503\n",
    "\n",
    "    # Storing the results in the dataframe\n",
    "    data.loc[len(data)] = [bs, energy_hartree, end - start]\n",
    "    data1.loc[len(data1)] = [bs1, energy_hartree1, energy_kcal_per_mol, end - start]\n",
    "\n",
    "data.to_csv(os.path.join(output_directory, \"results.csv\"), index=False)\n",
    "data1.to_csv(os.path.join(output_directory, \"results1.csv\"), index=False)\n",
    "\n",
    "print(\"Calculations completed. Results saved.\")\n",
    "print(\"Calculations completed. Results saved.\")"
   ]
  },
  {
   "cell_type": "code",
   "execution_count": 56,
   "metadata": {},
   "outputs": [
    {
     "data": {
      "text/html": [
       "<div>\n",
       "<style scoped>\n",
       "    .dataframe tbody tr th:only-of-type {\n",
       "        vertical-align: middle;\n",
       "    }\n",
       "\n",
       "    .dataframe tbody tr th {\n",
       "        vertical-align: top;\n",
       "    }\n",
       "\n",
       "    .dataframe thead th {\n",
       "        text-align: right;\n",
       "    }\n",
       "</style>\n",
       "<table border=\"1\" class=\"dataframe\">\n",
       "  <thead>\n",
       "    <tr style=\"text-align: right;\">\n",
       "      <th></th>\n",
       "      <th>Basis Set</th>\n",
       "      <th>Energy (Hartree)</th>\n",
       "      <th>Calculation Time</th>\n",
       "    </tr>\n",
       "  </thead>\n",
       "  <tbody>\n",
       "    <tr>\n",
       "      <th>0</th>\n",
       "      <td>6-311G(d,p)</td>\n",
       "      <td>-567.310343</td>\n",
       "      <td>3.190121</td>\n",
       "    </tr>\n",
       "    <tr>\n",
       "      <th>1</th>\n",
       "      <td>6-311+G(d,p)</td>\n",
       "      <td>-567.310343</td>\n",
       "      <td>2.892506</td>\n",
       "    </tr>\n",
       "    <tr>\n",
       "      <th>2</th>\n",
       "      <td>cc-pvqz</td>\n",
       "      <td>-567.310343</td>\n",
       "      <td>2.824383</td>\n",
       "    </tr>\n",
       "    <tr>\n",
       "      <th>3</th>\n",
       "      <td>cc-pv5z</td>\n",
       "      <td>-567.310343</td>\n",
       "      <td>2.923592</td>\n",
       "    </tr>\n",
       "  </tbody>\n",
       "</table>\n",
       "</div>"
      ],
      "text/plain": [
       "      Basis Set  Energy (Hartree)  Calculation Time\n",
       "0   6-311G(d,p)       -567.310343          3.190121\n",
       "1  6-311+G(d,p)       -567.310343          2.892506\n",
       "2       cc-pvqz       -567.310343          2.824383\n",
       "3       cc-pv5z       -567.310343          2.923592"
      ]
     },
     "execution_count": 56,
     "metadata": {},
     "output_type": "execute_result"
    }
   ],
   "source": [
    "data"
   ]
  },
  {
   "cell_type": "code",
   "execution_count": null,
   "metadata": {},
   "outputs": [],
   "source": [
    "data1"
   ]
  },
  {
   "cell_type": "code",
   "execution_count": null,
   "metadata": {},
   "outputs": [],
   "source": []
  },
  {
   "cell_type": "code",
   "execution_count": null,
   "metadata": {},
   "outputs": [],
   "source": []
  }
 ],
 "metadata": {
  "kernelspec": {
   "display_name": "Python 3 (ipykernel)",
   "language": "python",
   "name": "python3"
  },
  "language_info": {
   "codemirror_mode": {
    "name": "ipython",
    "version": 3
   },
   "file_extension": ".py",
   "mimetype": "text/x-python",
   "name": "python",
   "nbconvert_exporter": "python",
   "pygments_lexer": "ipython3",
   "version": "3.8.18"
  }
 },
 "nbformat": 4,
 "nbformat_minor": 4
}
